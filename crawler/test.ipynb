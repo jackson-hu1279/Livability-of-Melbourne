{
 "cells": [
  {
   "cell_type": "code",
   "execution_count": 14,
   "metadata": {},
   "outputs": [],
   "source": [
    "import tweepy\n",
    "\n",
    "BEARER_TOKEN = \"AAAAAAAAAAAAAAAAAAAAALWBbQEAAAAA%2FbQ0tpIE3uy14yUmYU0AiocoH6c%3DDkX3Fl2TdMFgRBCivYCSMajfqglkm8DkyylcAXkUFFceAIOBRB\"\n",
    "\n",
    "import tweepy\n",
    "\n",
    "client = tweepy.Client(bearer_token= BEARER_TOKEN)\n",
    "\n",
    "query = 'melbourne -is:retweet'"
   ]
  },
  {
   "cell_type": "code",
   "execution_count": 17,
   "metadata": {},
   "outputs": [],
   "source": [
    "tweets = client.search_recent_tweets(query=query, tweet_fields=['author_id', 'created_at'], max_results=10)"
   ]
  },
  {
   "cell_type": "code",
   "execution_count": 21,
   "metadata": {},
   "outputs": [],
   "source": [
    "author = []\n",
    "for data in tweets.data:\n",
    "    author.append(data.author_id)"
   ]
  },
  {
   "cell_type": "code",
   "execution_count": 22,
   "metadata": {},
   "outputs": [
    {
     "data": {
      "text/plain": [
       "[862959917996548096,\n",
       " 975218674314362881,\n",
       " 1433191842070237184,\n",
       " 854130566,\n",
       " 1428962869970878465,\n",
       " 1079579727570952197,\n",
       " 2615382984,\n",
       " 832340096,\n",
       " 740130710,\n",
       " 1402353711532347400]"
      ]
     },
     "execution_count": 22,
     "metadata": {},
     "output_type": "execute_result"
    }
   ],
   "source": [
    "author"
   ]
  }
 ],
 "metadata": {
  "interpreter": {
   "hash": "4f04aa0ca0731fe5f764d0a599ec5411588dcc9d1c221a0867cf05c446e600b7"
  },
  "kernelspec": {
   "display_name": "Python 3.8.2 64-bit",
   "language": "python",
   "name": "python3"
  },
  "language_info": {
   "codemirror_mode": {
    "name": "ipython",
    "version": 3
   },
   "file_extension": ".py",
   "mimetype": "text/x-python",
   "name": "python",
   "nbconvert_exporter": "python",
   "pygments_lexer": "ipython3",
   "version": "3.8.2"
  },
  "orig_nbformat": 4
 },
 "nbformat": 4,
 "nbformat_minor": 2
}
