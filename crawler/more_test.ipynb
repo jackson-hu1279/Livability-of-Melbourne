{
 "cells": [
  {
   "cell_type": "code",
   "execution_count": null,
   "metadata": {},
   "outputs": [],
   "source": [
    "# ----------------------------------------------\n",
    "# --------\n",
    "#\n",
    "# Cluster and Cloud Computing Assignment 2 - Team 53\n",
    "# \n",
    "# Authors: \n",
    "# - Chi Yin Wong (Student ID: 836872)\n",
    "# - Kaiquan Lin (Student ID: 1147233)\n",
    "# - Renkai Liao (Student ID: 1141584)\n",
    "# - Renwei Hu (Student ID: 1067974)\n",
    "# - Siwat Chairattanamanokorn (Student ID: 1338152)\n",
    "#\n",
    "# Author of this file:\n",
    "# - Renkai Liao (Student ID: 1141584)\n",
    "#\n",
    "# Location:\n",
    "# - China\n",
    "#\n",
    "# --------\n",
    "# ----------------------------------------------"
   ]
  },
  {
   "cell_type": "markdown",
   "metadata": {},
   "source": [
    "# Used for update in 2022/5/2"
   ]
  },
  {
   "cell_type": "markdown",
   "metadata": {},
   "source": [
    "## Function definition"
   ]
  },
  {
   "cell_type": "code",
   "execution_count": 1,
   "metadata": {},
   "outputs": [],
   "source": [
    "import tweepy\n",
    "import pickle\n",
    "import time\n",
    "import couchdb3\n",
    "import geojson \n",
    "import json\n",
    "from shapely.geometry.polygon import Polygon\n",
    "from shapely.geometry import Point"
   ]
  },
  {
   "cell_type": "code",
   "execution_count": 2,
   "metadata": {},
   "outputs": [],
   "source": [
    "### definitions\n",
    "def reform_tweet(raw_tweet):\n",
    "    \"\"\"\n",
    "    Reform the tweet data into a dictionary form.\n",
    "    Each tweet is a dictionary contains: tweet_id, text, author_id, create_at, geo\n",
    "    \"\"\"\n",
    "    tweet_dict = dict()\n",
    "    tweet_dict['_id'] = str(raw_tweet.id)\n",
    "    tweet_dict['author_id'] = raw_tweet.author_id\n",
    "    tweet_dict['text'] = raw_tweet.text\n",
    "    tweet_dict['created_at'] = str(raw_tweet.created_at)\n",
    "    tweet_dict['geo'] = raw_tweet.geo\n",
    "\n",
    "    return tweet_dict\n",
    "\n",
    "\n",
    "def preprocess(raw_tweet, tweet_list):\n",
    "    \"\"\"\n",
    "    Process all tweets in one turn, remove tweets withou geo info\n",
    "    \"\"\"\n",
    "    for data in raw_tweet:\n",
    "        tweet_list.append(reform_tweet(data))\n",
    "    \n",
    "    return tweet_list\n",
    "\n",
    "\n",
    "def get_tweet_1(query, token, tweets_each_turn, next_page = None):\n",
    "    \"\"\"\n",
    "    Get tweet using Twitter API 2.0. \n",
    "    Using keywords(query) as a main parameter\n",
    "    Caputure tweet_id, text, geo, author_id, create_at\n",
    "    \"\"\"\n",
    "    client = tweepy.Client(bearer_token= token)\n",
    "    # each time capture 100 tweets\n",
    "    tweets = client.search_recent_tweets(query=query, tweet_fields=['author_id', 'created_at', 'geo'], max_results=tweets_each_turn, next_token=next_page)\n",
    "\n",
    "    print(tweets.meta)\n",
    "\n",
    "    return tweets.data, tweets.meta['next_token']\n",
    "\n",
    "\n",
    "def crawler(query, tokens, tweets_each_turn, turns, client, db_name, db_name2):\n",
    "    \"\"\"\n",
    "    Main function. Use query as filter, token for authocation, and number of tweets each turn\n",
    "    Turns suggest how many turns this function will run\n",
    "    Get tweets from Twitter\n",
    "    Refrom tweets to dictionary type\n",
    "    Save tweets to CouchDB\n",
    "    Automatically repeat this process.\n",
    "    For one token, speed limit is 900 tweets/15min(1/sec)\n",
    "    \"\"\"\n",
    "\n",
    "    time_gap = int (tweets_each_turn / len(tokens)) + 1\n",
    "    \n",
    "    count = 0\n",
    "    next_page = None\n",
    "    tweet_list = []\n",
    "    while(count < turns):\n",
    "        for token in tokens:\n",
    "            data, next_page = get_tweet_1(query, token, tweets_each_turn, next_page)\n",
    "            tweet_list = preprocess(data, tweet_list)\n",
    "            time.sleep(time_gap)\n",
    "        \n",
    "        count = count + 1\n",
    "\n",
    "    #save_to_couchDB(client, tweet_list, db_name, db_name2)\n",
    "\n",
    "    output = open('tweetdata.pkl','wb')\n",
    "    pickle.dump(tweet_list, output)\n",
    "    output.close()\n",
    "    \n",
    "    return next_page\n",
    "\n",
    "\n",
    "\n",
    "def save_to_couchDB(client, tweet_data, db_name, db_name2):\n",
    "    \"\"\"\n",
    "    Save tweets to CouchDB, remove all duplicates\n",
    "    Save tweets without geo info to db_name\n",
    "    Save tweets with geo info to db_name2\n",
    "    \"\"\"\n",
    "    if(client.up() == True):\n",
    "        print(\"Connected to CouchDB\")\n",
    "    else:\n",
    "        print(\"Unable to connect to CouchDB\")\n",
    "        return\n",
    "\n",
    "    if( db_name not in client.all_dbs()):\n",
    "        print(\"No database:\" + db_name + \", create one first\")\n",
    "        client.create(db_name)\n",
    "\n",
    "    if( db_name2 not in client.all_dbs()):\n",
    "        print(\"No database:\" + db_name2 + \", create one first\")\n",
    "        client.create(db_name2)\n",
    "    \n",
    "    db1 = client.get(db_name)\n",
    "    count1 = 0\n",
    "\n",
    "    db2 = client.get(db_name2)\n",
    "    count2 = 0\n",
    "\n",
    "    for data in tweet_data:\n",
    "        if(data['geo'] == None):\n",
    "            if(data['_id'] not in db1):\n",
    "                db1.save(data)\n",
    "                count1 += 1\n",
    "        \n",
    "        else:  #store tweets with geo to another database\n",
    "            if(data['_id'] not in db2):\n",
    "                db2.save(data)\n",
    "                count2 += 1\n",
    "    \n",
    "    print(str(count1) + \" tweets(no geo) are successfully saved to database\" + db_name)\n",
    "    print(str(count2) + \" tweets(with geo) are successfully saved to database\" + db_name2)\n",
    "    return\n",
    "\n",
    "\n",
    "\n",
    "\n",
    "def crawler_2(query, tokens, tweets_each_turn, turns, client, db_name):\n",
    "    \"\"\"\n",
    "    Main function. Use query as filter, token for authocation, and number of tweets each turn\n",
    "    Turns suggest how many turns this function will run\n",
    "    Get tweets from Twitter\n",
    "    Refrom tweets to dictionary type\n",
    "    Save tweets to CouchDB\n",
    "    Automatically repeat this process.\n",
    "    For one token, speed limit is 900 tweets/15min(1/sec)\n",
    "    \"\"\"\n",
    "\n",
    "    time_gap = int (tweets_each_turn / len(tokens)) + 1\n",
    "    \n",
    "    count = 0\n",
    "    next_page = None\n",
    "    tweet_list = []\n",
    "    while(count < turns):\n",
    "        for token in tokens:\n",
    "            data, next_page = get_tweet_1(query, token, tweets_each_turn, next_page)\n",
    "            tweet_list = preprocess(data, tweet_list)\n",
    "            time.sleep(time_gap)\n",
    "        \n",
    "        count = count + 1\n",
    "\n",
    "    #save_to_couchDB_2(client, tweet_list, db_name)\n",
    "    output = open('topicB.pkl','wb')\n",
    "    pickle.dump(tweet_list, output)\n",
    "    output.close()\n",
    "    \n",
    "    return next_page\n",
    "\n",
    "\n",
    "\n",
    "def save_to_couchDB_2(client, tweet_data, db_name):\n",
    "    \"\"\"\n",
    "    Save tweets to CouchDB, remove all duplicates\n",
    "    Save tweets with geo info to db_name\n",
    "    Filter is based on coorinates\n",
    "    Used for specific scenario\n",
    "    \"\"\"\n",
    "\n",
    "    geo_filter = [144.33363404800002, -38.50298801599996, 145.8784120140001, -37.17509899299995]\n",
    "\n",
    "    if(client.up() == True):\n",
    "        print(\"Connected to CouchDB\")\n",
    "    else:\n",
    "        print(\"Unable to connect to CouchDB\")\n",
    "        return\n",
    "\n",
    "    if( db_name not in client.all_dbs()):\n",
    "        print(\"No database:\" + db_name + \", create one first\")\n",
    "        client.create(db_name)\n",
    "    \n",
    "    db1 = client.get(db_name)\n",
    "    count1 = 0\n",
    "\n",
    "    for data in tweet_data:\n",
    "        if(data['geo'] != None):#only store tweets with geo to database\n",
    "            if('coordinates' in data['geo'].keys()):\n",
    "                if(data['_id'] not in db1):\n",
    "                    latitude = data['geo']['coordinates']['coordinates'][0] \n",
    "                    longitude = data['geo']['coordinates']['coordinates'][1] \n",
    "                    if( latitude >= geo_filter[0] and latitude <= geo_filter[2]):\n",
    "                        if(longitude >= geo_filter[1] and longitude <= geo_filter[3]):\n",
    "                            db1.save(data)\n",
    "                            count1 += 1\n",
    "\n",
    "    print(str(count1) + \" tweets(with geo) are successfully saved to database\" + db_name)\n",
    "    return"
   ]
  },
  {
   "cell_type": "code",
   "execution_count": 6,
   "metadata": {},
   "outputs": [],
   "source": [
    "def add_lga_tags(file_name, tweet_data):\n",
    "    \"\"\"\n",
    "    Add LGA tags to tweets which have coordinates\n",
    "    file_name indicates the LGA lists stored as .pkl file\n",
    "    Add 2 attributes to tweet: LAG name, LGA code\n",
    "    \"\"\"\n",
    "\n",
    "    inputs = open(file_name,'rb')\n",
    "    LGA_FEATURES_LIST = pickle.load(inputs)\n",
    "    inputs.close()\n",
    "\n",
    "    for tweet in tweet_data:\n",
    "        if(tweet['geo'] != None):\n",
    "            if('coordinates' in tweet['geo'].keys()):\n",
    "                coords = tweet['geo']['coordinates']\n",
    "                point = Point(coords[\"coordinates\"])  \n",
    "                for j in range(len(LGA_FEATURES_LIST)):\n",
    "                    if LGA_FEATURES_LIST[j][\"geometry\"][\"coordinates\"][0].contains(point): # if true, add the LGA name and code to the tweet as a new key\n",
    "                        tweet[\"LGA_NAME\"] = LGA_FEATURES_LIST[j][\"properties\"][\"LGA_NAME\"]\n",
    "                        tweet[\"LGA_CODE\"] = LGA_FEATURES_LIST[j][\"properties\"][\"LGA_CODE\"]\n",
    "                        print(\"in LGA\", LGA_FEATURES_LIST[j][\"properties\"][\"LGA_NAME\"], LGA_FEATURES_LIST[j][\"properties\"][\"LGA_CODE\"])\n",
    "                        print(tweet[\"LGA_NAME\"])\n",
    "            \n",
    "                if \"LGA_NAME\" not in tweet:\n",
    "                    #print(\"not in LGA\")\n",
    "                    tweet[\"LGA_NAME\"] = \"NO LGA\"\n",
    "                    tweet[\"LGA_CODE\"] = \"NO LGA CODE\"\n",
    "    \n",
    "    return tweet_data"
   ]
  },
  {
   "cell_type": "markdown",
   "metadata": {},
   "source": [
    "## Test setup"
   ]
  },
  {
   "cell_type": "code",
   "execution_count": 11,
   "metadata": {},
   "outputs": [],
   "source": [
    "#### Set up\n",
    "BEARER_TOKEN = [\"AAAAAAAAAAAAAAAAAAAAALWBbQEAAAAA%2FbQ0tpIE3uy14yUmYU0AiocoH6c%3DDkX3Fl2TdMFgRBCivYCSMajfqglkm8DkyylcAXkUFFceAIOBRB\"]\n",
    "\n",
    "\n",
    "query1 = '(Melbourne OR melbourne) lang:en'\n",
    "query2 = '#Melbourne lang:en'\n",
    "query3 = 'suiside OR depression OR anxiety OR dying OR hallucination lang:en'\n",
    "\n",
    "client = couchdb3.Server(\n",
    "    \"http://172.26.132.196:5984\",\n",
    "    user=\"admin\",\n",
    "    password=\"admin\"\n",
    ")\n",
    "db_name = \"raw_tweets\"\n",
    "db_name2 = \"geo_tweets\"\n",
    "\n"
   ]
  },
  {
   "cell_type": "markdown",
   "metadata": {},
   "source": [
    "## Test"
   ]
  },
  {
   "cell_type": "code",
   "execution_count": 10,
   "metadata": {},
   "outputs": [
    {
     "name": "stdout",
     "output_type": "stream",
     "text": [
      "{'newest_id': '1521049510113583105', 'oldest_id': '1521040652699586565', 'result_count': 50, 'next_token': 'b26v89c19zqg8o3fpywl7jy4a4ognw9h4zp81htv3wvb1'}\n",
      "{'newest_id': '1521040419273945088', 'oldest_id': '1521021839807553538', 'result_count': 50, 'next_token': 'b26v89c19zqg8o3fpywl7jxiqsz6texxkqb5b1iqf2gsd'}\n",
      "{'newest_id': '1521021839639781376', 'oldest_id': '1521007292908707840', 'result_count': 50, 'next_token': 'b26v89c19zqg8o3fpywl7jwxf0orijf3rtklr7564m5bx'}\n",
      "{'newest_id': '1521006881203900416', 'oldest_id': '1520989610897461254', 'result_count': 50, 'next_token': 'b26v89c19zqg8o3fpywksxjx8ffe8vurhawxekmewowvx'}\n",
      "{'newest_id': '1520989465078296577', 'oldest_id': '1520965848898416640', 'result_count': 50, 'next_token': 'b26v89c19zqg8o3fpywksxjbhim7mno8q84bfetcphif1'}\n",
      "{'newest_id': '1520965808649740289', 'oldest_id': '1520948662267830272', 'result_count': 50, 'next_token': 'b26v89c19zqg8o3fpywksxiq17b5m13dw2p4xp6chsd4t'}\n"
     ]
    }
   ],
   "source": [
    "if(client.up()):\n",
    "    while(True): ## infinite loop\n",
    "        #next_tokens = crawler(query1, BEARER_TOKEN, 50, 5, client, db_name, db_name2)\n",
    "        next_tokens = crawler(query2, BEARER_TOKEN, 50, 6, client, db_name, db_name2)\n",
    "        break"
   ]
  },
  {
   "cell_type": "code",
   "execution_count": 4,
   "metadata": {},
   "outputs": [],
   "source": [
    "input = open('tweetdata.pkl','rb')\n",
    "data1 = pickle.load(input)\n",
    "input.close()"
   ]
  },
  {
   "cell_type": "code",
   "execution_count": 8,
   "metadata": {},
   "outputs": [
    {
     "name": "stdout",
     "output_type": "stream",
     "text": [
      "{'_id': '1520972573017735168', 'author_id': 38177628, 'text': 'This job might be a great fit for you: Operations Executive - Demand - https://t.co/QM8QfBXGtt #Melbourne, VIC', 'created_at': '2022-05-02 03:44:54+00:00', 'geo': {'place_id': '01864a8a64df9dc4', 'coordinates': {'type': 'Point', 'coordinates': [144.9630576, -37.8136276]}}, 'LGA_NAME': 'Melbourne City', 'LGA_CODE': 24600}\n"
     ]
    }
   ],
   "source": [
    "for data in data1:\n",
    "    if(data['geo'] != None):\n",
    "        if('coordinates' in data['geo'].keys()):\n",
    "            print(data)"
   ]
  },
  {
   "cell_type": "code",
   "execution_count": 13,
   "metadata": {},
   "outputs": [
    {
     "name": "stdout",
     "output_type": "stream",
     "text": [
      "Connected to CouchDB\n",
      "No database:test, create one first\n",
      "1 tweets(with geo) are successfully saved to databasetest\n"
     ]
    }
   ],
   "source": [
    "save_to_couchDB_2(client, data1, \"test\")"
   ]
  },
  {
   "cell_type": "code",
   "execution_count": 5,
   "metadata": {},
   "outputs": [
    {
     "name": "stdout",
     "output_type": "stream",
     "text": [
      "{'newest_id': '1521057747806130181', 'oldest_id': '1521057650519293952', 'result_count': 50, 'next_token': 'b26v89c19zqg8o3fpywl7jyfd6euaxm5eys92oft6cigt'}\n",
      "{'newest_id': '1521057649055657985', 'oldest_id': '1521057545938481154', 'result_count': 50, 'next_token': 'b26v89c19zqg8o3fpywl7jyfd674puiuk0ywyy55gs9rx'}\n",
      "{'newest_id': '1521057540397797376', 'oldest_id': '1521057458982211584', 'result_count': 50, 'next_token': 'b26v89c19zqg8o3fpywl7jyfd5zha88qhh6e2tfc4yut9'}\n",
      "{'newest_id': '1521057458843697152', 'oldest_id': '1521057386571743233', 'result_count': 50, 'next_token': 'b26v89c19zqg8o3fpywl7jyfd5rvzmd704p9p1ks35g1p'}\n",
      "{'newest_id': '1521057386055749637', 'oldest_id': '1521057319773253632', 'result_count': 50, 'next_token': 'b26v89c19zqg8o3fpywl7jyfd5rofveduw9uf2ogmxv99'}\n",
      "{'newest_id': '1521057316099051521', 'oldest_id': '1521057225057480705', 'result_count': 50, 'next_token': 'b26v89c19zqg8o3fpywl7jyfd5k0z6otpjapxfp8e1cvx'}\n"
     ]
    }
   ],
   "source": [
    "if(client.up()):\n",
    "    while(True): ## infinite loop\n",
    "        #next_tokens = crawler(query1, BEARER_TOKEN, 50, 5, client, db_name, db_name2)\n",
    "        next_tokens = crawler_2(query3, BEARER_TOKEN, 50, 6, client, db_name)\n",
    "        break"
   ]
  },
  {
   "cell_type": "code",
   "execution_count": 6,
   "metadata": {},
   "outputs": [],
   "source": [
    "input = open('topicB.pkl','rb')\n",
    "data2 = pickle.load(input)\n",
    "input.close()"
   ]
  },
  {
   "cell_type": "code",
   "execution_count": 8,
   "metadata": {},
   "outputs": [],
   "source": [
    "for data in data2:\n",
    "    if(data['geo'] != None):\n",
    "        if('coordinates' in data['geo'].keys()):\n",
    "            print(data['geo'])"
   ]
  },
  {
   "cell_type": "markdown",
   "metadata": {},
   "source": [
    "## LGA test"
   ]
  },
  {
   "cell_type": "code",
   "execution_count": 1,
   "metadata": {},
   "outputs": [],
   "source": [
    "import geojson \n",
    "import json\n",
    "from shapely.geometry.polygon import Polygon\n",
    "from shapely.geometry import Point\n",
    "\n",
    "\n",
    "def write_tweets(filename, tweets):\n",
    "    with open(filename, \"w\", encoding=\"utf-8\") as updated_file:\n",
    "        print('{\"docs\": [', file=updated_file)\n",
    "        i = 0\n",
    "        for record in tweets:\n",
    "            json.dump(record, updated_file)\n",
    "            if i < len(tweets) -1:\n",
    "                updated_file.write(\",\")\n",
    "            updated_file.write('\\n')\n",
    "            i += 1\n",
    "        print(']}', file=updated_file)\n",
    "\n",
    "    with open(filename) as fp:\n",
    "        # only to check that the format is correct\n",
    "        json.load(fp)\n",
    "    \n",
    "# Open the geojson file \n",
    "with open(\"vic-lga.geojson\", \"r\") as f:\n",
    "    gj = geojson.load(f)\n",
    "\n",
    "# aside:  access the third row (second object) in the geojson file\n",
    "# features = gj[\"features\"][2]\n",
    "\n",
    "# Greater melbourne LGAs taken from wikipedia page\n",
    "GREATER_MELBOURNE_LGA_LIST = [\n",
    "    \"Melbourne City\", \"Port Phillip City\", \"Stonnington City\", \"Yarra City\",\n",
    "    \"Banyule City\", \"Bayside City\", \"Boroondara City\", \"Darebin City\",\n",
    "    \"Glen Eira City\", \"Hobsons Bay City\", \"Kingston City\", \"Manningham City\",\n",
    "    \"Maribyrnong City\", \"Monash City\", \"Moonee Valley City\", \"Moreland City\",\n",
    "    \"Whitehorse City\", \"Brimbank City\", \"Cardinia Shire\", \"Casey City\",\n",
    "    \"Frankston City\", \"Greater Dandenong City\", \"Hume City\", \"Knox City\",\n",
    "    \"Maroondah City\", \"Melton City\", \"Mornington Peninsula Shire\", \"Nillumbik Shire\",\n",
    "    \"Whittlesea City\", \"Wyndham City\", \"Yarra Ranges Shire\"\n",
    "    ]\n",
    "\n",
    "GREATER_MELBOURNE_LGA_CODES = [\n",
    "    20660, 20910, 21110, 21180, 21450, 21610, 21890, 22170, 22310,\n",
    "    22670, 23110, 23270, 23430, 23670, 24210, 24330, 24410, 24600,\n",
    "    24650, 24970, 25060, 25250, 25340, 25710, 25900, 26350, 26980,\n",
    "    27070, 27260, 27350, 27450\n",
    "]\n",
    "\n",
    "LGA_FEATURES_LIST = []\n",
    "count = 0\n",
    "# There are 91 LGAs in Victoria - we only want information about LGAs in Greater Melbourne (31), we store in a list object\n",
    "for i in range(0,92):\n",
    "    lga_features = gj[\"features\"][i]\n",
    "    lga_name = lga_features[\"properties\"][\"LGA_NAME\"]\n",
    "    if lga_name in GREATER_MELBOURNE_LGA_LIST:\n",
    "        lga_features[\"properties\"][\"LGA_CODE\"] = GREATER_MELBOURNE_LGA_CODES[count]\n",
    "        count += 1\n",
    "        LGA_FEATURES_LIST.append(lga_features)\n",
    "\n",
    "\n",
    "for i in range(len(LGA_FEATURES_LIST)):\n",
    "    LGA_FEATURES_LIST[i][\"geometry\"][\"coordinates\"][0] = Polygon(LGA_FEATURES_LIST[i][\"geometry\"][\"coordinates\"][0])"
   ]
  },
  {
   "cell_type": "code",
   "execution_count": 11,
   "metadata": {},
   "outputs": [
    {
     "name": "stdout",
     "output_type": "stream",
     "text": [
      "in LGA Melbourne City 24600\n",
      "Melbourne City\n"
     ]
    }
   ],
   "source": [
    "for tweet in data1:\n",
    "    if(tweet['geo'] != None):\n",
    "        if('coordinates' in tweet['geo'].keys()):\n",
    "            coords = tweet['geo']['coordinates']\n",
    "            point = Point(coords[\"coordinates\"])  \n",
    "            for j in range(len(LGA_FEATURES_LIST)):\n",
    "                if LGA_FEATURES_LIST[j][\"geometry\"][\"coordinates\"][0].contains(point): # if true, add the LGA name and code to the tweet as a new key\n",
    "                    tweet[\"LGA_NAME\"] = LGA_FEATURES_LIST[j][\"properties\"][\"LGA_NAME\"]\n",
    "                    tweet[\"LGA_CODE\"] = LGA_FEATURES_LIST[j][\"properties\"][\"LGA_CODE\"]\n",
    "                    print(\"in LGA\", LGA_FEATURES_LIST[j][\"properties\"][\"LGA_NAME\"], LGA_FEATURES_LIST[j][\"properties\"][\"LGA_CODE\"])\n",
    "                    print(tweet[\"LGA_NAME\"])\n",
    "        \n",
    "    if \"LGA_NAME\" not in tweet:\n",
    "        #print(\"not in LGA\")\n",
    "        tweet[\"LGA_NAME\"] = \"NO LGA\"\n",
    "        tweet[\"LGA_CODE\"] = \"NO LGA CODE\""
   ]
  },
  {
   "cell_type": "code",
   "execution_count": 6,
   "metadata": {},
   "outputs": [
    {
     "data": {
      "image/svg+xml": "<svg xmlns=\"http://www.w3.org/2000/svg\" xmlns:xlink=\"http://www.w3.org/1999/xlink\" width=\"100.0\" height=\"100.0\" viewBox=\"145.02319892000003 -37.78971408 0.12514715999995474 0.11174316000000317\" preserveAspectRatio=\"xMinYMin meet\"><g transform=\"matrix(1,0,0,-1,0,-75.467685)\"><path fill-rule=\"evenodd\" fill=\"#66cc99\" stroke=\"#555555\" stroke-width=\"0.0025029431999990946\" opacity=\"0.6\" d=\"M 145.078364,-37.764186 L 145.078476,-37.763913 L 145.078501,-37.763831 L 145.078534,-37.763746 L 145.078576,-37.763655 L 145.078619,-37.763568 L 145.078667,-37.763484 L 145.078713,-37.763402 L 145.078746,-37.763318 L 145.07879,-37.763237 L 145.078833,-37.763157 L 145.078893,-37.763073 L 145.078937,-37.762997 L 145.078982,-37.762925 L 145.07902,-37.76286 L 145.079047,-37.762798 L 145.07908,-37.762731 L 145.079111,-37.762674 L 145.07916,-37.762574 L 145.079186,-37.762504 L 145.079207,-37.762409 L 145.07921,-37.76233 L 145.079192,-37.762218 L 145.079095,-37.762091 L 145.078939,-37.761979 L 145.078732,-37.761873 L 145.078525,-37.761776 L 145.078439,-37.761715 L 145.078331,-37.76163 L 145.078199,-37.761501 L 145.078138,-37.761425 L 145.077964,-37.761242 L 145.07774,-37.761135 L 145.077643,-37.761084 L 145.077545,-37.761009 L 145.07745,-37.760919 L 145.077406,-37.760864 L 145.077387,-37.760813 L 145.077366,-37.760766 L 145.077357,-37.760706 L 145.077355,-37.760633 L 145.077359,-37.760503 L 145.077351,-37.760473 L 145.077334,-37.760435 L 145.077313,-37.760402 L 145.077266,-37.760311 L 145.07725,-37.760249 L 145.077242,-37.760127 L 145.077243,-37.760054 L 145.077247,-37.760009 L 145.077272,-37.759969 L 145.077308,-37.759933 L 145.077331,-37.75987 L 145.077339,-37.759764 L 145.077331,-37.75967 L 145.077327,-37.759637 L 145.077197,-37.759158 L 145.077101,-37.758923 L 145.077039,-37.758767 L 145.076953,-37.758638 L 145.076873,-37.758561 L 145.076786,-37.75851 L 145.076721,-37.758484 L 145.076644,-37.758472 L 145.076538,-37.75849 L 145.076197,-37.758586 L 145.076027,-37.758683 L 145.075897,-37.758784 L 145.075617,-37.758928 L 145.075456,-37.759006 L 145.075284,-37.759072 L 145.075119,-37.759161 L 145.074929,-37.759252 L 145.074623,-37.759343 L 145.074192,-37.759431 L 145.073766,-37.759521 L 145.073464,-37.759589 L 145.073309,-37.759602 L 145.073168,-37.759596 L 145.073057,-37.759563 L 145.072977,-37.759493 L 145.072936,-37.759396 L 145.072933,-37.759224 L 145.072943,-37.75913 L 145.072957,-37.758998 L 145.073009,-37.758805 L 145.07307,-37.758622 L 145.073123,-37.758527 L 145.073236,-37.758396 L 145.073394,-37.758189 L 145.07354,-37.757923 L 145.073622,-37.75773 L 145.073705,-37.757646 L 145.073923,-37.757438 L 145.074068,-37.75734 L 145.074294,-37.757201 L 145.074449,-37.757081 L 145.074484,-37.757055 L 145.074577,-37.756984 L 145.074644,-37.756952 L 145.074762,-37.756928 L 145.07496,-37.756925 L 145.075212,-37.756943 L 145.07536,-37.757012 L 145.075519,-37.75713 L 145.075675,-37.757289 L 145.075775,-37.757335 L 145.075916,-37.757361 L 145.076101,-37.757405 L 145.076199,-37.757438 L 145.076291,-37.757459 L 145.076375,-37.757459 L 145.076541,-37.757446 L 145.076874,-37.757449 L 145.077127,-37.757452 L 145.077534,-37.757495 L 145.077782,-37.757543 L 145.078001,-37.757617 L 145.07813,-37.757719 L 145.078276,-37.757869 L 145.078433,-37.758031 L 145.078565,-37.758114 L 145.078749,-37.758205 L 145.078945,-37.758255 L 145.079162,-37.758305 L 145.079298,-37.758314 L 145.079505,-37.758287 L 145.079888,-37.758166 L 145.080198,-37.758051 L 145.080377,-37.758007 L 145.080482,-37.757935 L 145.08052,-37.75784 L 145.080523,-37.757727 L 145.080489,-37.757565 L 145.08035,-37.757357 L 145.080236,-37.757234 L 145.080055,-37.757117 L 145.079771,-37.757029 L 145.079334,-37.756922 L 145.078675,-37.756778 L 145.078259,-37.756689 L 145.078056,-37.756608 L 145.077626,-37.756347 L 145.077347,-37.756167 L 145.077263,-37.756091 L 145.077223,-37.756005 L 145.077211,-37.755891 L 145.077256,-37.755732 L 145.07735,-37.755543 L 145.077478,-37.75529 L 145.077603,-37.754993 L 145.077693,-37.754702 L 145.077763,-37.754529 L 145.07788,-37.754349 L 145.078001,-37.754187 L 145.078123,-37.754063 L 145.078298,-37.753938 L 145.07844,-37.753868 L 145.078649,-37.753835 L 145.078875,-37.753821 L 145.079037,-37.753827 L 145.0794,-37.753869 L 145.079826,-37.753907 L 145.080042,-37.753955 L 145.080239,-37.754048 L 145.080399,-37.754159 L 145.080556,-37.754315 L 145.080694,-37.754546 L 145.080776,-37.754759 L 145.080886,-37.755032 L 145.080954,-37.755249 L 145.080976,-37.755578 L 145.080959,-37.755793 L 145.080945,-37.755954 L 145.080964,-37.756044 L 145.081079,-37.756174 L 145.081232,-37.75629 L 145.08147,-37.756335 L 145.081678,-37.756333 L 145.081807,-37.756283 L 145.08196,-37.756106 L 145.08205,-37.755981 L 145.082173,-37.755786 L 145.082295,-37.755662 L 145.082477,-37.755526 L 145.082716,-37.755384 L 145.082948,-37.75522 L 145.083109,-37.755079 L 145.083179,-37.755014 L 145.083257,-37.754918 L 145.083273,-37.754838 L 145.083266,-37.754771 L 145.0832,-37.754691 L 145.08309,-37.754632 L 145.082873,-37.754607 L 145.082636,-37.754594 L 145.082405,-37.754605 L 145.082267,-37.754619 L 145.082113,-37.754622 L 145.081947,-37.754554 L 145.081784,-37.754439 L 145.081699,-37.754371 L 145.081656,-37.754271 L 145.081604,-37.754096 L 145.081584,-37.753942 L 145.081607,-37.753767 L 145.081684,-37.75357 L 145.081916,-37.753148 L 145.082182,-37.752614 L 145.082287,-37.752364 L 145.082339,-37.752121 L 145.082376,-37.751832 L 145.082388,-37.751643 L 145.082396,-37.751517 L 145.082413,-37.751429 L 145.082456,-37.75138 L 145.082625,-37.751357 L 145.082842,-37.751354 L 145.083077,-37.751357 L 145.08332,-37.751377 L 145.083591,-37.751446 L 145.083878,-37.751509 L 145.084214,-37.751633 L 145.0844,-37.75172 L 145.084532,-37.751806 L 145.084672,-37.752005 L 145.084955,-37.752374 L 145.085105,-37.752593 L 145.085169,-37.752731 L 145.08523,-37.75284 L 145.085319,-37.752896 L 145.085515,-37.75296 L 145.085731,-37.752992 L 145.085955,-37.752981 L 145.086337,-37.75292 L 145.086666,-37.752844 L 145.087035,-37.752783 L 145.08744,-37.752759 L 145.087832,-37.752781 L 145.08817,-37.752878 L 145.088629,-37.753087 L 145.088924,-37.753228 L 145.089138,-37.753384 L 145.089374,-37.753572 L 145.089563,-37.753694 L 145.089861,-37.753855 L 145.09037,-37.754121 L 145.090632,-37.754215 L 145.090828,-37.754266 L 145.091126,-37.754329 L 145.091378,-37.754342 L 145.091605,-37.754314 L 145.092142,-37.754211 L 145.092427,-37.754117 L 145.092666,-37.753951 L 145.092929,-37.753704 L 145.093244,-37.753275 L 145.093578,-37.75282 L 145.093799,-37.752527 L 145.094217,-37.751897 L 145.094667,-37.751333 L 145.094914,-37.750948 L 145.095129,-37.75061 L 145.095276,-37.750298 L 145.095313,-37.750087 L 145.095354,-37.749816 L 145.09545,-37.749517 L 145.095584,-37.749302 L 145.095712,-37.749173 L 145.095905,-37.749095 L 145.09636,-37.749063 L 145.09686,-37.749063 L 145.097352,-37.749035 L 145.097765,-37.748994 L 145.098054,-37.748969 L 145.09822,-37.749001 L 145.098449,-37.749125 L 145.098679,-37.749318 L 145.098918,-37.749593 L 145.099129,-37.749814 L 145.0994,-37.750236 L 145.099685,-37.750622 L 145.100112,-37.751083 L 145.100585,-37.751538 L 145.101035,-37.751947 L 145.101572,-37.752314 L 145.101963,-37.752567 L 145.102597,-37.752891 L 145.103074,-37.753189 L 145.103501,-37.753396 L 145.103988,-37.753621 L 145.104544,-37.753851 L 145.104847,-37.753998 L 145.105187,-37.754115 L 145.10555,-37.754262 L 145.106073,-37.754514 L 145.106496,-37.754682 L 145.106937,-37.75482 L 145.107364,-37.754911 L 145.107851,-37.755031 L 145.108507,-37.75521 L 145.109091,-37.755343 L 145.109532,-37.755407 L 145.109922,-37.755433 L 145.11039,-37.755433 L 145.110519,-37.755422 L 145.11064,-37.755391 L 145.110811,-37.755339 L 145.110995,-37.755257 L 145.111273,-37.755138 L 145.111403,-37.755112 L 145.111557,-37.755107 L 145.111673,-37.755125 L 145.111869,-37.755147 L 145.112025,-37.755176 L 145.112251,-37.755205 L 145.112436,-37.755229 L 145.112475,-37.755234 L 145.112668,-37.755243 L 145.112861,-37.755227 L 145.113132,-37.755154 L 145.113384,-37.755011 L 145.113559,-37.754858 L 145.113657,-37.754716 L 145.113755,-37.754555 L 145.11395,-37.75425 L 145.114127,-37.753921 L 145.114258,-37.753729 L 145.114337,-37.75363 L 145.114482,-37.753475 L 145.114684,-37.753311 L 145.114835,-37.753239 L 145.114908,-37.753205 L 145.115043,-37.753131 L 145.115054,-37.753127 L 145.115295,-37.753044 L 145.115695,-37.753013 L 145.116089,-37.752964 L 145.116843,-37.752892 L 145.117048,-37.752847 L 145.117305,-37.752792 L 145.117536,-37.752753 L 145.117812,-37.752646 L 145.118194,-37.752533 L 145.118646,-37.752393 L 145.118903,-37.752319 L 145.119322,-37.752279 L 145.119792,-37.752257 L 145.120281,-37.752275 L 145.120641,-37.752327 L 145.120993,-37.752342 L 145.121287,-37.752275 L 145.121581,-37.752073 L 145.121768,-37.751893 L 145.121857,-37.75164 L 145.121879,-37.75132 L 145.121893,-37.750806 L 145.121893,-37.750597 L 145.121926,-37.750347 L 145.121959,-37.750031 L 145.122051,-37.749825 L 145.122261,-37.749597 L 145.122479,-37.749404 L 145.122583,-37.749295 L 145.122692,-37.749212 L 145.122812,-37.749193 L 145.122999,-37.749278 L 145.123182,-37.749474 L 145.12343,-37.749804 L 145.123668,-37.750137 L 145.123954,-37.75049 L 145.124189,-37.750652 L 145.124461,-37.75078 L 145.124795,-37.75092 L 145.125155,-37.751052 L 145.125462,-37.751144 L 145.125748,-37.751227 L 145.125844,-37.751225 L 145.12591,-37.751224 L 145.125931,-37.751221 L 145.125963,-37.751172 L 145.126042,-37.751056 L 145.126081,-37.750921 L 145.126077,-37.750831 L 145.125987,-37.750529 L 145.125678,-37.74997 L 145.125395,-37.749507 L 145.125022,-37.749089 L 145.124569,-37.74869 L 145.123897,-37.74815 L 145.123569,-37.74788 L 145.123242,-37.747617 L 145.122978,-37.74751 L 145.122743,-37.747494 L 145.122473,-37.747543 L 145.122213,-37.747713 L 145.121981,-37.747925 L 145.121644,-37.748243 L 145.121546,-37.748315 L 145.121533,-37.748403 L 145.12152,-37.748462 L 145.121497,-37.748574 L 145.121293,-37.748751 L 145.120945,-37.749036 L 145.120384,-37.749397 L 145.11991,-37.749632 L 145.119516,-37.749754 L 145.119231,-37.749786 L 145.119014,-37.749768 L 145.118901,-37.749718 L 145.118757,-37.749637 L 145.11868,-37.749497 L 145.118684,-37.749244 L 145.118734,-37.749121 L 145.118924,-37.748891 L 145.119331,-37.748498 L 145.119697,-37.74824 L 145.12005,-37.748045 L 145.120132,-37.747963 L 145.120235,-37.74786 L 145.120226,-37.747813 L 145.120223,-37.747742 L 145.120255,-37.747237 L 145.120271,-37.746864 L 145.120207,-37.746009 L 145.120152,-37.745431 L 145.120072,-37.745254 L 145.11995,-37.745109 L 145.119934,-37.744903 L 145.119956,-37.744685 L 145.120181,-37.744347 L 145.12049,-37.743875 L 145.120859,-37.743206 L 145.121097,-37.742592 L 145.121252,-37.742274 L 145.12148,-37.74183 L 145.12157,-37.741563 L 145.121747,-37.741296 L 145.121965,-37.741052 L 145.122322,-37.740756 L 145.122663,-37.740518 L 145.122984,-37.740403 L 145.123647,-37.740293 L 145.124463,-37.740216 L 145.125061,-37.740184 L 145.12545,-37.740194 L 145.125862,-37.740261 L 145.126331,-37.740361 L 145.12682,-37.740522 L 145.127414,-37.740808 L 145.12788,-37.74102 L 145.128781,-37.741406 L 145.12944,-37.741647 L 145.130748,-37.742078 L 145.131677,-37.742393 L 145.132902,-37.742745 L 145.133227,-37.742831 L 145.133253,-37.742836 L 145.133457,-37.742783 L 145.13361,-37.742702 L 145.133956,-37.742407 L 145.134252,-37.742053 L 145.134522,-37.741718 L 145.134791,-37.741369 L 145.135062,-37.741082 L 145.135252,-37.740993 L 145.135388,-37.740923 L 145.135637,-37.740841 L 145.135564,-37.740695 L 145.135382,-37.740376 L 145.134156,-37.738216 L 145.13472,-37.734855 L 145.135077,-37.734295 L 145.135633,-37.733708 L 145.136376,-37.733313 L 145.137737,-37.733167 L 145.136655,-37.73269 L 145.135626,-37.732317 L 145.134892,-37.732086 L 145.135147,-37.730611 L 145.136397,-37.723553 L 145.137043,-37.72155 L 145.137414,-37.719814 L 145.137451,-37.719819 L 145.137794,-37.717951 L 145.137466,-37.71786 L 145.137127,-37.716563 L 145.136499,-37.715924 L 145.135242,-37.715265 L 145.135006,-37.7149 L 145.134513,-37.714153 L 145.133827,-37.713456 L 145.133626,-37.713319 L 145.133572,-37.712852 L 145.133073,-37.711277 L 145.132825,-37.71018 L 145.132088,-37.708766 L 145.131587,-37.70764 L 145.130363,-37.705913 L 145.128149,-37.704714 L 145.128316,-37.703922 L 145.128333,-37.703836 L 145.128344,-37.70375 L 145.128352,-37.703663 L 145.128354,-37.703576 L 145.128352,-37.703476 L 145.128347,-37.703447 L 145.128331,-37.703373 L 145.128311,-37.7033 L 145.128287,-37.703227 L 145.128258,-37.703156 L 145.128225,-37.703086 L 145.128185,-37.702996 L 145.12815,-37.702905 L 145.128119,-37.702813 L 145.128093,-37.70272 L 145.12807,-37.702626 L 145.128053,-37.702532 L 145.12804,-37.702437 L 145.128031,-37.702342 L 145.128029,-37.702289 L 145.129941,-37.701145 L 145.130746,-37.700676 L 145.131575,-37.70034 L 145.132188,-37.700342 L 145.140363,-37.70125 L 145.140967,-37.698102 L 145.141202,-37.696972 L 145.141756,-37.694046 L 145.142018,-37.692424 L 145.142406,-37.689977 L 145.142947,-37.68676 L 145.143193,-37.68542 L 145.143275,-37.68514 L 145.14371,-37.682609 L 145.143711,-37.682606 L 145.140514,-37.682798 L 145.137671,-37.683128 L 145.13756,-37.683169 L 145.136718,-37.683474 L 145.132423,-37.685168 L 145.130494,-37.686047 L 145.124645,-37.686676 L 145.122225,-37.686796 L 145.118776,-37.68742 L 145.116837,-37.687909 L 145.114352,-37.689043 L 145.110344,-37.690821 L 145.104471,-37.692107 L 145.100276,-37.692431 L 145.095792,-37.69265 L 145.095488,-37.692665 L 145.095363,-37.692672 L 145.095239,-37.692682 L 145.095115,-37.692696 L 145.094992,-37.692713 L 145.09487,-37.692734 L 145.094749,-37.692758 L 145.094629,-37.692786 L 145.09451,-37.692818 L 145.094393,-37.692852 L 145.094278,-37.69289 L 145.094164,-37.692932 L 145.094053,-37.692976 L 145.093943,-37.693024 L 145.093836,-37.693075 L 145.093731,-37.693129 L 145.093629,-37.693186 L 145.093529,-37.693246 L 145.093433,-37.693309 L 145.093339,-37.693374 L 145.093248,-37.693443 L 145.09316,-37.693513 L 145.093076,-37.693587 L 145.093061,-37.6936 L 145.092979,-37.693521 L 145.092821,-37.693374 L 145.09266,-37.69323 L 145.092495,-37.693087 L 145.092327,-37.692947 L 145.092156,-37.69281 L 145.091982,-37.692675 L 145.091804,-37.692543 L 145.091623,-37.692413 L 145.09144,-37.692286 L 145.091253,-37.692162 L 145.091064,-37.692041 L 145.090871,-37.691922 L 145.090676,-37.691807 L 145.090479,-37.691694 L 145.090278,-37.691584 L 145.090075,-37.691477 L 145.08987,-37.691374 L 145.089662,-37.691273 L 145.089452,-37.691175 L 145.08924,-37.691081 L 145.089068,-37.691008 L 145.081953,-37.689023 L 145.078956,-37.687885 L 145.077382,-37.687459 L 145.074322,-37.687043 L 145.067845,-37.68663 L 145.067675,-37.686877 L 145.067023,-37.687604 L 145.065726,-37.688951 L 145.062756,-37.692035 L 145.061457,-37.693382 L 145.060522,-37.694388 L 145.05991,-37.695194 L 145.059725,-37.695606 L 145.0595,-37.696106 L 145.058926,-37.697837 L 145.058456,-37.699268 L 145.058233,-37.699946 L 145.058225,-37.699969 L 145.058115,-37.700308 L 145.058052,-37.700825 L 145.057876,-37.701616 L 145.057456,-37.70246 L 145.056693,-37.703199 L 145.052976,-37.706844 L 145.051326,-37.708376 L 145.051548,-37.708394 L 145.05172,-37.708408 L 145.05188,-37.708421 L 145.05208,-37.708437 L 145.0523,-37.708455 L 145.052506,-37.708471 L 145.052699,-37.708487 L 145.052894,-37.708502 L 145.053075,-37.708517 L 145.053256,-37.708531 L 145.053436,-37.708546 L 145.053635,-37.708561 L 145.053829,-37.708577 L 145.054029,-37.708593 L 145.054229,-37.708609 L 145.054431,-37.708625 L 145.054633,-37.708641 L 145.054754,-37.70865 L 145.055094,-37.708677 L 145.055172,-37.708684 L 145.055619,-37.708719 L 145.055846,-37.708737 L 145.056037,-37.708752 L 145.056223,-37.708767 L 145.056443,-37.708785 L 145.056623,-37.708799 L 145.056804,-37.708814 L 145.056984,-37.708828 L 145.057171,-37.708843 L 145.057352,-37.708857 L 145.057532,-37.708872 L 145.057719,-37.708886 L 145.057899,-37.708901 L 145.058078,-37.708915 L 145.05826,-37.708929 L 145.058463,-37.708946 L 145.058643,-37.70896 L 145.058825,-37.708975 L 145.059005,-37.708989 L 145.059191,-37.709005 L 145.059372,-37.709019 L 145.059543,-37.709033 L 145.059715,-37.709047 L 145.059881,-37.709061 L 145.060893,-37.709144 L 145.061006,-37.709153 L 145.061617,-37.709201 L 145.061677,-37.709206 L 145.061696,-37.709207 L 145.061697,-37.709201 L 145.061883,-37.709216 L 145.062906,-37.709296 L 145.063098,-37.709311 L 145.064194,-37.709396 L 145.064458,-37.709425 L 145.064592,-37.70944 L 145.064739,-37.709403 L 145.064945,-37.709351 L 145.065066,-37.709321 L 145.065139,-37.709303 L 145.06531,-37.70926 L 145.065417,-37.709233 L 145.065502,-37.709211 L 145.065671,-37.709169 L 145.065843,-37.709125 L 145.066013,-37.709082 L 145.066184,-37.709039 L 145.066375,-37.708991 L 145.066547,-37.708948 L 145.066719,-37.708905 L 145.066881,-37.708864 L 145.067031,-37.708826 L 145.067169,-37.708795 L 145.067439,-37.708731 L 145.067657,-37.708676 L 145.067874,-37.708621 L 145.068056,-37.708576 L 145.068228,-37.708533 L 145.068427,-37.708483 L 145.068607,-37.708437 L 145.06879,-37.708391 L 145.068972,-37.708346 L 145.06917,-37.708296 L 145.069352,-37.708251 L 145.069562,-37.708198 L 145.069587,-37.708192 L 145.072314,-37.70848 L 145.074955,-37.708776 L 145.074945,-37.708833 L 145.07492,-37.708976 L 145.074895,-37.709118 L 145.074869,-37.70927 L 145.07484,-37.709435 L 145.074808,-37.709618 L 145.074777,-37.709799 L 145.074753,-37.709939 L 145.074746,-37.709975 L 145.074718,-37.710136 L 145.074693,-37.710279 L 145.074577,-37.710947 L 145.074739,-37.710964 L 145.074907,-37.710983 L 145.075076,-37.711001 L 145.075162,-37.711011 L 145.075244,-37.71102 L 145.075406,-37.711038 L 145.075405,-37.711041 L 145.075369,-37.711247 L 145.075196,-37.71226 L 145.075053,-37.713092 L 145.074991,-37.713451 L 145.07492,-37.713862 L 145.074842,-37.71432 L 145.074763,-37.714775 L 145.074685,-37.715231 L 145.074617,-37.715625 L 145.074534,-37.716117 L 145.072509,-37.715891 L 145.072508,-37.715891 L 145.072506,-37.715891 L 145.070861,-37.715703 L 145.069237,-37.715555 L 145.069207,-37.715737 L 145.069261,-37.715742 L 145.069124,-37.715823 L 145.068985,-37.715907 L 145.068846,-37.71599 L 145.068709,-37.716072 L 145.068708,-37.716073 L 145.06857,-37.716156 L 145.068532,-37.716178 L 145.068432,-37.716238 L 145.06835,-37.716288 L 145.068294,-37.716321 L 145.068169,-37.716396 L 145.068155,-37.716404 L 145.068018,-37.716487 L 145.068001,-37.716497 L 145.06788,-37.716569 L 145.067847,-37.716589 L 145.06773,-37.716723 L 145.067721,-37.716733 L 145.067585,-37.716889 L 145.067483,-37.717006 L 145.067456,-37.717036 L 145.067357,-37.717148 L 145.067258,-37.71726 L 145.067159,-37.717372 L 145.067059,-37.717485 L 145.066963,-37.717593 L 145.066641,-37.717963 L 145.066316,-37.718335 L 145.066003,-37.718694 L 145.065895,-37.718818 L 145.065787,-37.718942 L 145.065668,-37.719078 L 145.065561,-37.719201 L 145.065452,-37.719326 L 145.065344,-37.71945 L 145.065223,-37.719588 L 145.065115,-37.719712 L 145.065006,-37.719837 L 145.064868,-37.719996 L 145.064695,-37.720195 L 145.064681,-37.72021 L 145.06482,-37.72043 L 145.064924,-37.720595 L 145.065011,-37.720733 L 145.065105,-37.72088 L 145.065201,-37.721033 L 145.065291,-37.721175 L 145.065428,-37.721392 L 145.065525,-37.721545 L 145.065617,-37.721689 L 145.065682,-37.721793 L 145.065744,-37.721892 L 145.06581,-37.721996 L 145.065864,-37.722081 L 145.065919,-37.722167 L 145.066016,-37.72232 L 145.066355,-37.722857 L 145.066749,-37.72348 L 145.067749,-37.724449 L 145.067823,-37.724522 L 145.0675,-37.724848 L 145.061533,-37.724198 L 145.060674,-37.729162 L 145.060781,-37.729489 L 145.060853,-37.729708 L 145.060843,-37.729766 L 145.060661,-37.729745 L 145.057584,-37.729401 L 145.056445,-37.729273 L 145.055551,-37.729174 L 145.055449,-37.729163 L 145.055327,-37.729149 L 145.055179,-37.729133 L 145.053327,-37.728928 L 145.053107,-37.728904 L 145.052885,-37.72888 L 145.05266,-37.728855 L 145.052439,-37.72883 L 145.052217,-37.728806 L 145.051992,-37.728781 L 145.051768,-37.728756 L 145.051546,-37.728732 L 145.051324,-37.728707 L 145.051103,-37.728683 L 145.050336,-37.728598 L 145.050242,-37.728587 L 145.049902,-37.728553 L 145.046004,-37.72813 L 145.045876,-37.728116 L 145.045817,-37.728103 L 145.045641,-37.728084 L 145.045123,-37.72803 L 145.044023,-37.727913 L 145.04346,-37.727853 L 145.040679,-37.727542 L 145.039143,-37.727371 L 145.038607,-37.727311 L 145.038573,-37.727339 L 145.03852,-37.727385 L 145.038444,-37.72745 L 145.038402,-37.727488 L 145.038341,-37.727542 L 145.038286,-37.7276 L 145.038222,-37.727667 L 145.038142,-37.727731 L 145.038109,-37.727772 L 145.038109,-37.727822 L 145.038135,-37.727909 L 145.03814,-37.727975 L 145.038164,-37.728033 L 145.038181,-37.728088 L 145.038224,-37.728158 L 145.038295,-37.728334 L 145.038306,-37.728376 L 145.03837,-37.728459 L 145.03845,-37.728496 L 145.038491,-37.728505 L 145.038589,-37.728515 L 145.03868,-37.728521 L 145.038784,-37.728489 L 145.03889,-37.728435 L 145.039003,-37.728349 L 145.039079,-37.728303 L 145.039103,-37.728286 L 145.039228,-37.728253 L 145.039355,-37.728218 L 145.039417,-37.728227 L 145.039479,-37.728272 L 145.039529,-37.728327 L 145.039565,-37.728352 L 145.039623,-37.728432 L 145.03966,-37.728478 L 145.039653,-37.72855 L 145.039653,-37.728551 L 145.03967,-37.728592 L 145.039679,-37.728613 L 145.039689,-37.728634 L 145.039698,-37.728649 L 145.039708,-37.728664 L 145.039739,-37.728693 L 145.039773,-37.72873 L 145.039807,-37.728762 L 145.039826,-37.728781 L 145.039844,-37.728801 L 145.03987,-37.728835 L 145.03989,-37.728858 L 145.039906,-37.728884 L 145.039919,-37.728895 L 145.039933,-37.728907 L 145.039959,-37.72894 L 145.039992,-37.728974 L 145.04004,-37.729029 L 145.040055,-37.729047 L 145.040082,-37.729078 L 145.040099,-37.729093 L 145.040115,-37.729108 L 145.04015,-37.729143 L 145.04018,-37.729169 L 145.040203,-37.729194 L 145.040254,-37.729254 L 145.040262,-37.729264 L 145.040269,-37.729275 L 145.040273,-37.729286 L 145.040278,-37.729316 L 145.040283,-37.729348 L 145.040291,-37.729373 L 145.040299,-37.729411 L 145.040315,-37.729462 L 145.040332,-37.729542 L 145.040335,-37.729551 L 145.040344,-37.729571 L 145.040348,-37.729589 L 145.040358,-37.729614 L 145.04038,-37.729692 L 145.040389,-37.72971 L 145.040399,-37.729728 L 145.040435,-37.729814 L 145.040448,-37.729851 L 145.040456,-37.729869 L 145.040466,-37.729887 L 145.04048,-37.729911 L 145.040485,-37.729923 L 145.040498,-37.729954 L 145.040505,-37.729974 L 145.040511,-37.729993 L 145.040522,-37.730033 L 145.040527,-37.730055 L 145.040528,-37.730072 L 145.040525,-37.73009 L 145.040517,-37.730122 L 145.040511,-37.730152 L 145.040504,-37.730177 L 145.040489,-37.730226 L 145.040483,-37.730244 L 145.040469,-37.730278 L 145.040462,-37.730293 L 145.040452,-37.730309 L 145.04044,-37.730324 L 145.040427,-37.730339 L 145.040412,-37.730353 L 145.0404,-37.730362 L 145.040386,-37.730368 L 145.040364,-37.730374 L 145.040341,-37.730377 L 145.040317,-37.730378 L 145.040293,-37.730377 L 145.040274,-37.730376 L 145.040255,-37.730374 L 145.04023,-37.73037 L 145.040205,-37.730365 L 145.040104,-37.730342 L 145.040042,-37.730325 L 145.040006,-37.730321 L 145.039959,-37.730311 L 145.03993,-37.730307 L 145.039901,-37.730304 L 145.039869,-37.730302 L 145.039837,-37.730301 L 145.039788,-37.730302 L 145.039677,-37.730303 L 145.039646,-37.730302 L 145.039615,-37.7303 L 145.039583,-37.730298 L 145.039552,-37.730294 L 145.039524,-37.73029 L 145.039497,-37.730284 L 145.039475,-37.730277 L 145.039454,-37.73027 L 145.039365,-37.730236 L 145.039348,-37.730229 L 145.039333,-37.730221 L 145.039214,-37.730147 L 145.039208,-37.730142 L 145.039204,-37.730137 L 145.039198,-37.730125 L 145.039196,-37.730113 L 145.039198,-37.730101 L 145.0392,-37.730095 L 145.039203,-37.730088 L 145.039213,-37.730071 L 145.039228,-37.730041 L 145.039232,-37.730031 L 145.039236,-37.730019 L 145.039241,-37.729997 L 145.039242,-37.729987 L 145.03924,-37.729977 L 145.039236,-37.729971 L 145.03923,-37.729965 L 145.039225,-37.729962 L 145.03917,-37.729941 L 145.039145,-37.729933 L 145.039119,-37.729925 L 145.039078,-37.729912 L 145.039052,-37.729906 L 145.039025,-37.729902 L 145.038991,-37.729897 L 145.038957,-37.729894 L 145.03894,-37.729893 L 145.038923,-37.729894 L 145.038883,-37.729898 L 145.038857,-37.729901 L 145.038843,-37.729904 L 145.03883,-37.729908 L 145.038803,-37.729917 L 145.038744,-37.72994 L 145.038713,-37.729952 L 145.038682,-37.729963 L 145.038663,-37.729969 L 145.038643,-37.729974 L 145.038582,-37.729986 L 145.038559,-37.72999 L 145.038544,-37.729992 L 145.038508,-37.729993 L 145.038472,-37.729993 L 145.038407,-37.729993 L 145.038389,-37.729994 L 145.038372,-37.729996 L 145.038361,-37.729999 L 145.038346,-37.730004 L 145.038332,-37.730011 L 145.03832,-37.730018 L 145.038273,-37.730051 L 145.038252,-37.730068 L 145.038208,-37.730111 L 145.038174,-37.730143 L 145.038164,-37.730154 L 145.038157,-37.730165 L 145.038145,-37.73019 L 145.038138,-37.73021 L 145.038134,-37.73023 L 145.038133,-37.730244 L 145.038134,-37.730271 L 145.038138,-37.730299 L 145.038145,-37.730328 L 145.038154,-37.730356 L 145.038167,-37.730381 L 145.038183,-37.730405 L 145.038204,-37.730431 L 145.038226,-37.730457 L 145.038251,-37.730483 L 145.038277,-37.730509 L 145.0383,-37.730528 L 145.038326,-37.730547 L 145.038384,-37.730584 L 145.038426,-37.730613 L 145.038473,-37.730652 L 145.038535,-37.730694 L 145.038615,-37.730761 L 145.038638,-37.730781 L 145.038664,-37.73081 L 145.038766,-37.730929 L 145.038786,-37.730955 L 145.038804,-37.730982 L 145.038817,-37.731002 L 145.038838,-37.731034 L 145.03886,-37.731071 L 145.038889,-37.731106 L 145.038904,-37.731121 L 145.038961,-37.731168 L 145.038983,-37.731188 L 145.039007,-37.731207 L 145.039044,-37.731233 L 145.039136,-37.731293 L 145.039147,-37.7313 L 145.039158,-37.731305 L 145.039182,-37.731314 L 145.039183,-37.731315 L 145.039286,-37.731372 L 145.039321,-37.731392 L 145.039535,-37.731527 L 145.03958,-37.731559 L 145.039625,-37.731591 L 145.039718,-37.731653 L 145.039793,-37.731709 L 145.039855,-37.731752 L 145.039882,-37.731772 L 145.039914,-37.731796 L 145.039944,-37.731821 L 145.04001,-37.731889 L 145.040077,-37.731951 L 145.040108,-37.731982 L 145.040137,-37.732015 L 145.040164,-37.732049 L 145.040189,-37.732083 L 145.040211,-37.732116 L 145.04023,-37.73215 L 145.040235,-37.732164 L 145.040236,-37.732179 L 145.040235,-37.732189 L 145.040229,-37.732201 L 145.040193,-37.732251 L 145.04018,-37.732272 L 145.040169,-37.732297 L 145.040138,-37.732378 L 145.040128,-37.732417 L 145.040121,-37.732437 L 145.040112,-37.732456 L 145.0401,-37.732482 L 145.040086,-37.732507 L 145.040077,-37.73252 L 145.040025,-37.732606 L 145.039975,-37.732688 L 145.039955,-37.732715 L 145.039909,-37.732773 L 145.039883,-37.732802 L 145.03986,-37.732823 L 145.039805,-37.732868 L 145.039772,-37.732891 L 145.039751,-37.732903 L 145.039728,-37.732912 L 145.039673,-37.732932 L 145.039643,-37.732945 L 145.039577,-37.732968 L 145.039551,-37.73298 L 145.039521,-37.732992 L 145.03949,-37.733003 L 145.039434,-37.733022 L 145.039425,-37.733027 L 145.039399,-37.733044 L 145.039319,-37.733082 L 145.039305,-37.73309 L 145.039146,-37.733199 L 145.039121,-37.733219 L 145.039099,-37.73324 L 145.039009,-37.73333 L 145.038983,-37.733354 L 145.038955,-37.733377 L 145.03893,-37.733396 L 145.038904,-37.733414 L 145.038885,-37.733425 L 145.038854,-37.733441 L 145.038821,-37.733457 L 145.038794,-37.733469 L 145.038767,-37.73348 L 145.038717,-37.733497 L 145.038687,-37.733508 L 145.03866,-37.73352 L 145.038601,-37.733551 L 145.038589,-37.733557 L 145.038549,-37.733578 L 145.038487,-37.733614 L 145.038446,-37.733637 L 145.038406,-37.733659 L 145.038298,-37.733718 L 145.038246,-37.733746 L 145.038194,-37.733774 L 145.038187,-37.733777 L 145.038156,-37.733799 L 145.03813,-37.733825 L 145.038111,-37.733849 L 145.038095,-37.733875 L 145.038084,-37.733897 L 145.038074,-37.733919 L 145.038059,-37.733959 L 145.038042,-37.733999 L 145.038027,-37.734026 L 145.03797,-37.734125 L 145.037929,-37.734199 L 145.037884,-37.734275 L 145.037874,-37.734298 L 145.037867,-37.734322 L 145.037858,-37.734353 L 145.037853,-37.734383 L 145.03785,-37.734422 L 145.037852,-37.73446 L 145.037856,-37.734484 L 145.037859,-37.734508 L 145.037857,-37.734617 L 145.037859,-37.734673 L 145.037857,-37.734698 L 145.037851,-37.734722 L 145.037836,-37.734752 L 145.037823,-37.734775 L 145.037808,-37.734798 L 145.037786,-37.734821 L 145.03776,-37.734842 L 145.037725,-37.734867 L 145.037688,-37.734889 L 145.037643,-37.734912 L 145.037597,-37.734934 L 145.037495,-37.734979 L 145.037394,-37.735028 L 145.037338,-37.735053 L 145.03728,-37.735075 L 145.037234,-37.73509 L 145.037187,-37.735102 L 145.037132,-37.735112 L 145.037044,-37.735125 L 145.037012,-37.735125 L 145.03698,-37.735119 L 145.036948,-37.735112 L 145.036894,-37.735102 L 145.036618,-37.735085 L 145.036567,-37.735083 L 145.03651,-37.735084 L 145.036355,-37.735092 L 145.036312,-37.735095 L 145.036269,-37.735101 L 145.036233,-37.73511 L 145.03619,-37.735123 L 145.036148,-37.735136 L 145.036064,-37.735165 L 145.036012,-37.735181 L 145.03596,-37.735197 L 145.035908,-37.735211 L 145.035855,-37.735225 L 145.035806,-37.735232 L 145.035768,-37.735236 L 145.035731,-37.735236 L 145.035694,-37.735232 L 145.035681,-37.735232 L 145.035655,-37.73523 L 145.035621,-37.735219 L 145.035601,-37.735208 L 145.035571,-37.735199 L 145.03553,-37.73518 L 145.035427,-37.735137 L 145.035401,-37.735126 L 145.035374,-37.735116 L 145.035348,-37.73511 L 145.035312,-37.735093 L 145.035209,-37.735069 L 145.035172,-37.73506 L 145.035134,-37.735052 L 145.035091,-37.735046 L 145.035062,-37.735044 L 145.03504,-37.735041 L 145.034998,-37.73504 L 145.034956,-37.735042 L 145.034896,-37.735047 L 145.034835,-37.73505 L 145.034783,-37.73505 L 145.034728,-37.735048 L 145.03453,-37.735039 L 145.0345,-37.735033 L 145.034452,-37.735027 L 145.034372,-37.735023 L 145.034341,-37.735019 L 145.034315,-37.735018 L 145.034286,-37.735025 L 145.034205,-37.735065 L 145.03417,-37.735085 L 145.034127,-37.735108 L 145.034098,-37.735121 L 145.034068,-37.735134 L 145.034049,-37.735141 L 145.034007,-37.735159 L 145.033961,-37.735183 L 145.033918,-37.735208 L 145.033899,-37.735219 L 145.033885,-37.735225 L 145.033864,-37.735239 L 145.033853,-37.735241 L 145.033816,-37.735261 L 145.033806,-37.735265 L 145.033794,-37.735263 L 145.033787,-37.735257 L 145.033785,-37.735242 L 145.033787,-37.735219 L 145.033794,-37.735192 L 145.033793,-37.735164 L 145.033781,-37.735147 L 145.033763,-37.73514 L 145.033743,-37.735142 L 145.033728,-37.735154 L 145.033723,-37.735173 L 145.033718,-37.735203 L 145.033715,-37.735261 L 145.033711,-37.735284 L 145.033716,-37.735321 L 145.033721,-37.735352 L 145.033729,-37.735376 L 145.033735,-37.735399 L 145.033739,-37.735421 L 145.033746,-37.73546 L 145.033751,-37.735493 L 145.033756,-37.73552 L 145.033755,-37.735538 L 145.033759,-37.735548 L 145.033776,-37.735627 L 145.033781,-37.735635 L 145.033789,-37.73566 L 145.033794,-37.735679 L 145.033797,-37.735703 L 145.033804,-37.735731 L 145.03381,-37.735764 L 145.03381,-37.735787 L 145.033817,-37.735817 L 145.033819,-37.735834 L 145.033822,-37.735868 L 145.033829,-37.735895 L 145.033837,-37.73593 L 145.033843,-37.735963 L 145.033844,-37.73599 L 145.033843,-37.736015 L 145.033844,-37.736066 L 145.033848,-37.736102 L 145.033849,-37.73616 L 145.033844,-37.736185 L 145.03384,-37.736212 L 145.033838,-37.736236 L 145.033839,-37.736268 L 145.03384,-37.736293 L 145.033841,-37.736321 L 145.03384,-37.736341 L 145.033836,-37.736372 L 145.033837,-37.736396 L 145.03384,-37.736416 L 145.033837,-37.736436 L 145.033827,-37.736463 L 145.033818,-37.736483 L 145.033801,-37.736501 L 145.033793,-37.736512 L 145.033779,-37.736532 L 145.033765,-37.736544 L 145.033758,-37.73655 L 145.033751,-37.736556 L 145.03373,-37.73658 L 145.033712,-37.736603 L 145.033681,-37.736629 L 145.033668,-37.736648 L 145.033659,-37.736666 L 145.033656,-37.736675 L 145.033645,-37.736709 L 145.033637,-37.736744 L 145.033622,-37.736775 L 145.033602,-37.736797 L 145.033585,-37.73681 L 145.03356,-37.736825 L 145.033507,-37.736846 L 145.033482,-37.736859 L 145.033458,-37.736874 L 145.033437,-37.73689 L 145.033416,-37.736906 L 145.033393,-37.736925 L 145.033362,-37.736947 L 145.033329,-37.736973 L 145.033306,-37.736987 L 145.033282,-37.736999 L 145.033244,-37.737017 L 145.033216,-37.737022 L 145.033188,-37.737027 L 145.033136,-37.737038 L 145.033082,-37.737049 L 145.032958,-37.737069 L 145.032912,-37.737082 L 145.032784,-37.737128 L 145.032746,-37.737145 L 145.032708,-37.737163 L 145.032557,-37.737231 L 145.032518,-37.73725 L 145.032487,-37.73727 L 145.032452,-37.737288 L 145.032402,-37.737315 L 145.032348,-37.737341 L 145.032301,-37.737372 L 145.032239,-37.737407 L 145.032217,-37.737428 L 145.032184,-37.737461 L 145.032162,-37.73749 L 145.032141,-37.737521 L 145.032089,-37.737584 L 145.032068,-37.737607 L 145.032049,-37.737631 L 145.03203,-37.737665 L 145.032015,-37.737696 L 145.032001,-37.737729 L 145.031993,-37.737753 L 145.031993,-37.737783 L 145.031989,-37.73782 L 145.031993,-37.737871 L 145.031992,-37.737891 L 145.031993,-37.737914 L 145.031994,-37.737955 L 145.031999,-37.737987 L 145.032005,-37.738011 L 145.032008,-37.73803 L 145.032006,-37.738058 L 145.032005,-37.738084 L 145.03201,-37.738106 L 145.032015,-37.738131 L 145.032016,-37.738158 L 145.03202,-37.738191 L 145.032028,-37.73822 L 145.032036,-37.738256 L 145.032042,-37.738303 L 145.032051,-37.738342 L 145.032058,-37.738381 L 145.032068,-37.738416 L 145.032077,-37.738464 L 145.032084,-37.738485 L 145.032097,-37.738516 L 145.032114,-37.738554 L 145.032123,-37.73858 L 145.032163,-37.738713 L 145.032173,-37.738738 L 145.032183,-37.738762 L 145.032195,-37.738784 L 145.032206,-37.738806 L 145.032223,-37.738852 L 145.032251,-37.738928 L 145.03226,-37.73895 L 145.032281,-37.738984 L 145.032292,-37.739004 L 145.032308,-37.739046 L 145.032324,-37.739089 L 145.032339,-37.73912 L 145.032354,-37.739151 L 145.032413,-37.739262 L 145.032426,-37.739285 L 145.032469,-37.739352 L 145.032482,-37.739375 L 145.032495,-37.739398 L 145.032521,-37.739449 L 145.03253,-37.739464 L 145.03254,-37.739484 L 145.032549,-37.739509 L 145.032565,-37.739559 L 145.032571,-37.739579 L 145.032586,-37.739606 L 145.032603,-37.739633 L 145.032619,-37.739665 L 145.032633,-37.739701 L 145.032643,-37.739724 L 145.032725,-37.73987 L 145.03275,-37.739909 L 145.032778,-37.73994 L 145.032819,-37.739979 L 145.032848,-37.740014 L 145.032866,-37.740043 L 145.032877,-37.740075 L 145.032881,-37.740119 L 145.032883,-37.740154 L 145.032883,-37.740185 L 145.032879,-37.740221 L 145.032877,-37.740235 L 145.032871,-37.740254 L 145.032865,-37.740278 L 145.032854,-37.740302 L 145.032843,-37.740322 L 145.032825,-37.740359 L 145.032809,-37.740388 L 145.032759,-37.740456 L 145.032753,-37.740485 L 145.032745,-37.740515 L 145.032742,-37.740529 L 145.03274,-37.740561 L 145.032742,-37.740585 L 145.032749,-37.740615 L 145.032763,-37.740649 L 145.032773,-37.740681 L 145.032781,-37.740714 L 145.032788,-37.740739 L 145.032795,-37.740768 L 145.032798,-37.740784 L 145.032941,-37.74111 L 145.03295,-37.741159 L 145.032949,-37.74117 L 145.032954,-37.741179 L 145.032965,-37.741215 L 145.032975,-37.741252 L 145.032989,-37.74128 L 145.033011,-37.741337 L 145.03302,-37.741364 L 145.033039,-37.741389 L 145.033061,-37.741409 L 145.033094,-37.741444 L 145.033132,-37.741471 L 145.033242,-37.741541 L 145.033274,-37.74156 L 145.033313,-37.741574 L 145.033399,-37.741591 L 145.033438,-37.741601 L 145.033493,-37.741616 L 145.03353,-37.741626 L 145.033571,-37.741634 L 145.033599,-37.741642 L 145.033632,-37.74165 L 145.033683,-37.741666 L 145.033729,-37.74168 L 145.033777,-37.741711 L 145.033839,-37.741739 L 145.033883,-37.741771 L 145.033921,-37.741791 L 145.033938,-37.741815 L 145.033972,-37.74184 L 145.034012,-37.741865 L 145.03403,-37.741896 L 145.034048,-37.741918 L 145.034085,-37.741957 L 145.034107,-37.741993 L 145.03414,-37.742034 L 145.034158,-37.742062 L 145.034174,-37.742086 L 145.034209,-37.742133 L 145.034226,-37.742162 L 145.034241,-37.742193 L 145.034263,-37.742219 L 145.034283,-37.742251 L 145.034299,-37.742283 L 145.034309,-37.742308 L 145.034338,-37.742337 L 145.034358,-37.74238 L 145.034381,-37.742403 L 145.034403,-37.742429 L 145.034425,-37.74246 L 145.034439,-37.742479 L 145.034447,-37.742503 L 145.034459,-37.74252 L 145.034468,-37.74254 L 145.034479,-37.742559 L 145.034488,-37.742578 L 145.034501,-37.742594 L 145.034514,-37.742613 L 145.034536,-37.742634 L 145.034557,-37.742675 L 145.034569,-37.7427 L 145.034578,-37.742728 L 145.034596,-37.742756 L 145.034615,-37.742785 L 145.034646,-37.742832 L 145.034663,-37.74286 L 145.034703,-37.742924 L 145.034719,-37.742945 L 145.034731,-37.74297 L 145.03475,-37.742991 L 145.034751,-37.742999 L 145.034763,-37.743023 L 145.034785,-37.743055 L 145.0348,-37.743088 L 145.034807,-37.74311 L 145.034822,-37.743135 L 145.034853,-37.74319 L 145.03487,-37.743217 L 145.034893,-37.743248 L 145.034914,-37.743275 L 145.034932,-37.743304 L 145.034951,-37.743339 L 145.034962,-37.743373 L 145.034969,-37.743402 L 145.034994,-37.743432 L 145.035011,-37.743457 L 145.035026,-37.743488 L 145.035045,-37.743522 L 145.03506,-37.743552 L 145.035076,-37.743587 L 145.035093,-37.74362 L 145.035106,-37.743649 L 145.035121,-37.743701 L 145.035125,-37.743725 L 145.035132,-37.743774 L 145.035133,-37.7438 L 145.035135,-37.743823 L 145.03514,-37.743849 L 145.035142,-37.743879 L 145.03514,-37.743907 L 145.035134,-37.743934 L 145.035127,-37.743971 L 145.035125,-37.744009 L 145.035115,-37.744042 L 145.035098,-37.744066 L 145.035077,-37.744084 L 145.035057,-37.744105 L 145.035034,-37.744123 L 145.035011,-37.744142 L 145.034987,-37.74416 L 145.034959,-37.744178 L 145.034935,-37.744194 L 145.034917,-37.744209 L 145.034886,-37.744229 L 145.034848,-37.744259 L 145.034824,-37.744274 L 145.034786,-37.744292 L 145.034746,-37.744312 L 145.034721,-37.744327 L 145.034694,-37.744341 L 145.03466,-37.744356 L 145.034628,-37.74437 L 145.0346,-37.744382 L 145.03456,-37.7444 L 145.034495,-37.744432 L 145.034479,-37.744441 L 145.0344,-37.744478 L 145.034308,-37.744518 L 145.034276,-37.744533 L 145.034245,-37.744549 L 145.034214,-37.744565 L 145.034184,-37.744581 L 145.034156,-37.744597 L 145.034131,-37.744606 L 145.034093,-37.744622 L 145.03406,-37.74464 L 145.034002,-37.744674 L 145.033975,-37.744688 L 145.033947,-37.744701 L 145.033922,-37.744714 L 145.033894,-37.744731 L 145.033856,-37.744751 L 145.033817,-37.744774 L 145.033789,-37.744793 L 145.033737,-37.744833 L 145.033706,-37.744855 L 145.03368,-37.744877 L 145.033658,-37.744898 L 145.033636,-37.74492 L 145.033615,-37.744939 L 145.033598,-37.744958 L 145.033571,-37.744987 L 145.033544,-37.745021 L 145.033524,-37.74505 L 145.033502,-37.745073 L 145.033488,-37.745098 L 145.03347,-37.745125 L 145.033442,-37.745161 L 145.03343,-37.745192 L 145.033416,-37.745218 L 145.033401,-37.745248 L 145.03338,-37.745311 L 145.033378,-37.745354 L 145.033354,-37.745397 L 145.033358,-37.745437 L 145.033359,-37.745467 L 145.033355,-37.745499 L 145.033353,-37.74554 L 145.033362,-37.745567 L 145.033367,-37.745605 L 145.033392,-37.745668 L 145.033415,-37.74571 L 145.033427,-37.745736 L 145.033452,-37.745775 L 145.033477,-37.7458 L 145.033499,-37.745829 L 145.033536,-37.745853 L 145.033579,-37.745877 L 145.033613,-37.745904 L 145.033659,-37.745921 L 145.033703,-37.745942 L 145.033735,-37.745956 L 145.03377,-37.745964 L 145.033806,-37.745977 L 145.03384,-37.745986 L 145.033886,-37.745992 L 145.033926,-37.745991 L 145.033961,-37.745994 L 145.033999,-37.745992 L 145.034034,-37.745986 L 145.034065,-37.745976 L 145.034094,-37.745967 L 145.034127,-37.745963 L 145.034162,-37.745953 L 145.034193,-37.745945 L 145.034216,-37.745941 L 145.03425,-37.745931 L 145.034282,-37.745923 L 145.03432,-37.745915 L 145.034391,-37.745892 L 145.034424,-37.745885 L 145.034454,-37.745878 L 145.034497,-37.745866 L 145.034534,-37.745849 L 145.034572,-37.745843 L 145.034608,-37.74583 L 145.034644,-37.745821 L 145.034681,-37.745812 L 145.034709,-37.745804 L 145.034749,-37.745798 L 145.034802,-37.745781 L 145.034841,-37.745772 L 145.034873,-37.745765 L 145.034901,-37.74576 L 145.034933,-37.745757 L 145.034992,-37.745758 L 145.035025,-37.745753 L 145.035104,-37.745764 L 145.035141,-37.74577 L 145.035196,-37.745774 L 145.035246,-37.745784 L 145.035302,-37.745804 L 145.035334,-37.745811 L 145.035383,-37.745833 L 145.035425,-37.745853 L 145.035469,-37.745878 L 145.0355,-37.745893 L 145.03561,-37.745985 L 145.035639,-37.746012 L 145.035681,-37.746056 L 145.035704,-37.746083 L 145.035746,-37.746118 L 145.035764,-37.746146 L 145.0358,-37.746185 L 145.035833,-37.746218 L 145.035851,-37.746254 L 145.035873,-37.746271 L 145.035893,-37.746299 L 145.035909,-37.746327 L 145.035925,-37.746349 L 145.035946,-37.746369 L 145.035969,-37.746393 L 145.035995,-37.746417 L 145.036016,-37.746439 L 145.036031,-37.746463 L 145.036056,-37.746494 L 145.036074,-37.746526 L 145.036093,-37.746575 L 145.036103,-37.74662 L 145.036103,-37.746661 L 145.036106,-37.746703 L 145.036092,-37.74677 L 145.036078,-37.746833 L 145.03606,-37.746879 L 145.036062,-37.746923 L 145.036039,-37.746972 L 145.036028,-37.74701 L 145.036012,-37.747055 L 145.035991,-37.747087 L 145.035977,-37.747133 L 145.035958,-37.747169 L 145.035952,-37.747206 L 145.035933,-37.747261 L 145.03592,-37.747306 L 145.035899,-37.74735 L 145.035882,-37.747382 L 145.035866,-37.747423 L 145.035855,-37.747457 L 145.035845,-37.747492 L 145.035829,-37.747525 L 145.035815,-37.747544 L 145.035808,-37.747561 L 145.035779,-37.747641 L 145.035748,-37.747684 L 145.035724,-37.747719 L 145.035692,-37.747755 L 145.035665,-37.74779 L 145.035604,-37.747848 L 145.035566,-37.747881 L 145.035541,-37.747899 L 145.035521,-37.747923 L 145.035464,-37.747971 L 145.035437,-37.747993 L 145.035405,-37.74801 L 145.03538,-37.748034 L 145.035345,-37.748049 L 145.035274,-37.748092 L 145.035214,-37.748121 L 145.035185,-37.74814 L 145.035163,-37.748152 L 145.035141,-37.748168 L 145.035114,-37.748181 L 145.035085,-37.748201 L 145.03505,-37.748221 L 145.034979,-37.748271 L 145.034942,-37.748298 L 145.034896,-37.748328 L 145.034865,-37.748349 L 145.034837,-37.748369 L 145.034805,-37.748388 L 145.034765,-37.748405 L 145.03473,-37.748423 L 145.0347,-37.748435 L 145.034671,-37.748447 L 145.034631,-37.748465 L 145.034592,-37.748475 L 145.03454,-37.748485 L 145.034496,-37.748496 L 145.034443,-37.748507 L 145.034396,-37.748508 L 145.034347,-37.748509 L 145.034278,-37.748509 L 145.034227,-37.748514 L 145.03415,-37.748524 L 145.034104,-37.748528 L 145.034042,-37.74855 L 145.033944,-37.748581 L 145.03393,-37.748589 L 145.03386,-37.748618 L 145.033816,-37.74863 L 145.033772,-37.748647 L 145.033737,-37.748663 L 145.03366,-37.748691 L 145.033631,-37.748706 L 145.033596,-37.748718 L 145.033571,-37.748732 L 145.033536,-37.748746 L 145.03339,-37.748829 L 145.033191,-37.748911 L 145.033102,-37.748975 L 145.033096,-37.748981 L 145.033093,-37.748983 L 145.033072,-37.749006 L 145.033049,-37.74902 L 145.033032,-37.749034 L 145.033005,-37.74906 L 145.032979,-37.749074 L 145.032956,-37.749086 L 145.032931,-37.749105 L 145.032919,-37.749117 L 145.032736,-37.749324 L 145.032716,-37.749349 L 145.032692,-37.749373 L 145.032662,-37.749401 L 145.032635,-37.749433 L 145.032607,-37.749468 L 145.032582,-37.749494 L 145.032559,-37.749524 L 145.032538,-37.749556 L 145.032518,-37.749574 L 145.032496,-37.749592 L 145.032476,-37.749614 L 145.032453,-37.749639 L 145.032429,-37.749662 L 145.032406,-37.749683 L 145.032392,-37.749695 L 145.032375,-37.749716 L 145.032354,-37.749743 L 145.032328,-37.74977 L 145.032308,-37.749798 L 145.032279,-37.749832 L 145.032252,-37.749861 L 145.032229,-37.749888 L 145.032202,-37.749915 L 145.032182,-37.749943 L 145.032162,-37.749969 L 145.032134,-37.749997 L 145.032112,-37.750023 L 145.032094,-37.750046 L 145.032069,-37.750074 L 145.032043,-37.750099 L 145.032023,-37.750124 L 145.032006,-37.750147 L 145.031955,-37.750188 L 145.031935,-37.750209 L 145.031877,-37.750267 L 145.031851,-37.750295 L 145.031833,-37.750319 L 145.03181,-37.750343 L 145.03179,-37.750366 L 145.031768,-37.750391 L 145.03171,-37.750449 L 145.0317,-37.750456 L 145.031671,-37.75049 L 145.031645,-37.750518 L 145.031631,-37.750536 L 145.031616,-37.750558 L 145.031594,-37.750585 L 145.031578,-37.750603 L 145.031564,-37.750623 L 145.031554,-37.750646 L 145.031531,-37.750676 L 145.031507,-37.750718 L 145.031489,-37.750744 L 145.031472,-37.750768 L 145.031459,-37.7508 L 145.031448,-37.750821 L 145.031435,-37.75085 L 145.031425,-37.75087 L 145.031418,-37.750898 L 145.031409,-37.750926 L 145.031396,-37.750987 L 145.031388,-37.751067 L 145.031383,-37.751097 L 145.031392,-37.751122 L 145.031394,-37.751151 L 145.031393,-37.751183 L 145.0314,-37.751233 L 145.031389,-37.751263 L 145.031389,-37.751307 L 145.031385,-37.751332 L 145.031386,-37.751359 L 145.031391,-37.751385 L 145.031403,-37.751416 L 145.03141,-37.751444 L 145.031425,-37.751463 L 145.031431,-37.75149 L 145.031439,-37.751555 L 145.031441,-37.751583 L 145.031446,-37.751603 L 145.031458,-37.751629 L 145.031479,-37.751663 L 145.03149,-37.751697 L 145.031582,-37.751904 L 145.031598,-37.75194 L 145.03161,-37.751966 L 145.031632,-37.752002 L 145.031642,-37.752033 L 145.031664,-37.752068 L 145.031679,-37.752099 L 145.03169,-37.752139 L 145.031709,-37.75223 L 145.031719,-37.752261 L 145.031739,-37.752313 L 145.031748,-37.752357 L 145.031766,-37.752404 L 145.03178,-37.752455 L 145.031784,-37.752477 L 145.031796,-37.752516 L 145.031805,-37.752556 L 145.031806,-37.752604 L 145.031729,-37.75291 L 145.031712,-37.752949 L 145.031696,-37.752963 L 145.031675,-37.752997 L 145.031646,-37.753047 L 145.031632,-37.753083 L 145.031605,-37.753112 L 145.031581,-37.753137 L 145.03157,-37.753169 L 145.031535,-37.753227 L 145.031502,-37.753267 L 145.031486,-37.753295 L 145.031461,-37.753333 L 145.031455,-37.753363 L 145.03144,-37.753385 L 145.031415,-37.753434 L 145.031399,-37.753462 L 145.031382,-37.753498 L 145.031358,-37.753518 L 145.031341,-37.753555 L 145.031321,-37.75358 L 145.0313,-37.753602 L 145.031286,-37.753623 L 145.031276,-37.753642 L 145.031261,-37.75366 L 145.031231,-37.753691 L 145.031195,-37.753722 L 145.031182,-37.753756 L 145.031164,-37.753773 L 145.031157,-37.753803 L 145.031144,-37.753828 L 145.031124,-37.753849 L 145.031108,-37.753872 L 145.031084,-37.753892 L 145.031067,-37.753917 L 145.031049,-37.753936 L 145.031026,-37.753967 L 145.031006,-37.753982 L 145.030994,-37.754002 L 145.030975,-37.754028 L 145.030949,-37.754054 L 145.030927,-37.754079 L 145.030904,-37.754112 L 145.030892,-37.754129 L 145.030868,-37.754152 L 145.030844,-37.754167 L 145.030827,-37.754187 L 145.030809,-37.754223 L 145.030758,-37.754264 L 145.030748,-37.754278 L 145.030734,-37.754287 L 145.030726,-37.754308 L 145.030703,-37.754353 L 145.030692,-37.754381 L 145.030679,-37.754424 L 145.030668,-37.754455 L 145.030652,-37.754486 L 145.030647,-37.754525 L 145.030632,-37.75458 L 145.030626,-37.754624 L 145.030626,-37.754655 L 145.030617,-37.754692 L 145.030624,-37.754719 L 145.030634,-37.754768 L 145.030653,-37.754809 L 145.030656,-37.754853 L 145.030713,-37.754926 L 145.030739,-37.754976 L 145.030759,-37.754995 L 145.030782,-37.755021 L 145.030809,-37.755043 L 145.030836,-37.755059 L 145.030875,-37.755079 L 145.030902,-37.755103 L 145.030925,-37.75513 L 145.030939,-37.755163 L 145.030955,-37.755191 L 145.030977,-37.755218 L 145.030985,-37.75524 L 145.031004,-37.755269 L 145.031015,-37.755297 L 145.031026,-37.755316 L 145.031033,-37.755338 L 145.031064,-37.755358 L 145.031091,-37.755408 L 145.031106,-37.755433 L 145.031133,-37.755456 L 145.031156,-37.755469 L 145.031167,-37.755483 L 145.03118,-37.755496 L 145.031192,-37.755521 L 145.031226,-37.755563 L 145.031245,-37.755591 L 145.031253,-37.755608 L 145.031275,-37.755632 L 145.031309,-37.755663 L 145.031344,-37.755692 L 145.031373,-37.755719 L 145.031408,-37.755754 L 145.031447,-37.755785 L 145.031483,-37.755817 L 145.031528,-37.755855 L 145.031581,-37.755886 L 145.031625,-37.755912 L 145.031681,-37.755949 L 145.031726,-37.755981 L 145.031763,-37.756009 L 145.031819,-37.756049 L 145.031881,-37.756086 L 145.031953,-37.756131 L 145.032028,-37.756195 L 145.032099,-37.756256 L 145.032153,-37.756312 L 145.032194,-37.756367 L 145.032221,-37.75642 L 145.032232,-37.756479 L 145.032241,-37.756534 L 145.032248,-37.756585 L 145.032246,-37.756632 L 145.032241,-37.756674 L 145.032226,-37.756731 L 145.032205,-37.756784 L 145.032177,-37.756826 L 145.032159,-37.756873 L 145.032133,-37.756909 L 145.032073,-37.756959 L 145.031991,-37.757036 L 145.031942,-37.757071 L 145.031894,-37.757102 L 145.031821,-37.75716 L 145.031812,-37.757165 L 145.031778,-37.757185 L 145.031732,-37.75721 L 145.031679,-37.757246 L 145.031624,-37.757283 L 145.03158,-37.75731 L 145.031542,-37.757336 L 145.031509,-37.757361 L 145.031465,-37.75739 L 145.03141,-37.757415 L 145.031357,-37.757434 L 145.031302,-37.757446 L 145.031267,-37.75745 L 145.031208,-37.75746 L 145.031146,-37.757469 L 145.031091,-37.757474 L 145.031032,-37.757468 L 145.030973,-37.757461 L 145.030909,-37.757457 L 145.030846,-37.757464 L 145.030729,-37.757464 L 145.030656,-37.75746 L 145.030604,-37.757459 L 145.030533,-37.757454 L 145.030465,-37.757445 L 145.030391,-37.757436 L 145.030317,-37.757428 L 145.030249,-37.757427 L 145.030189,-37.757425 L 145.030137,-37.757425 L 145.030077,-37.757434 L 145.030021,-37.757442 L 145.029967,-37.757448 L 145.029911,-37.757457 L 145.029863,-37.757464 L 145.029808,-37.757471 L 145.029754,-37.757479 L 145.0297,-37.757495 L 145.02964,-37.757511 L 145.029577,-37.757531 L 145.029527,-37.75755 L 145.02939,-37.757586 L 145.029346,-37.757602 L 145.029311,-37.757622 L 145.029279,-37.757646 L 145.029248,-37.757664 L 145.029182,-37.757726 L 145.02916,-37.757752 L 145.02914,-37.757782 L 145.029116,-37.757822 L 145.029043,-37.757949 L 145.029035,-37.758025 L 145.029138,-37.758239 L 145.029142,-37.758256 L 145.029151,-37.758287 L 145.029158,-37.758301 L 145.029166,-37.758328 L 145.029171,-37.758355 L 145.029184,-37.758404 L 145.029206,-37.758447 L 145.029215,-37.758468 L 145.029225,-37.758501 L 145.029238,-37.758535 L 145.029241,-37.758562 L 145.029249,-37.758578 L 145.029253,-37.758588 L 145.029257,-37.758603 L 145.029268,-37.75863 L 145.029281,-37.758659 L 145.029285,-37.758682 L 145.029295,-37.758704 L 145.029301,-37.758727 L 145.029309,-37.75875 L 145.029324,-37.758778 L 145.029337,-37.758813 L 145.029342,-37.758836 L 145.029356,-37.758875 L 145.029361,-37.758901 L 145.02937,-37.758919 L 145.029381,-37.758941 L 145.029389,-37.758959 L 145.029395,-37.75899 L 145.0294,-37.758997 L 145.029404,-37.759006 L 145.029411,-37.75903 L 145.029444,-37.759069 L 145.029462,-37.759117 L 145.029475,-37.759143 L 145.029484,-37.759173 L 145.029498,-37.759189 L 145.029509,-37.759214 L 145.02952,-37.759238 L 145.029535,-37.759258 L 145.029569,-37.759313 L 145.029582,-37.759332 L 145.029604,-37.759359 L 145.029625,-37.759392 L 145.029646,-37.759416 L 145.029657,-37.75944 L 145.029665,-37.75946 L 145.02968,-37.759485 L 145.029691,-37.759509 L 145.029707,-37.75953 L 145.029718,-37.759547 L 145.029743,-37.759589 L 145.029752,-37.759607 L 145.029763,-37.759623 L 145.029772,-37.759638 L 145.029778,-37.759659 L 145.029791,-37.759679 L 145.029802,-37.759701 L 145.02982,-37.759722 L 145.029839,-37.759752 L 145.029863,-37.759784 L 145.029874,-37.759806 L 145.02989,-37.759834 L 145.029906,-37.759864 L 145.029927,-37.7599 L 145.029946,-37.759939 L 145.029971,-37.760027 L 145.029977,-37.760069 L 145.029977,-37.760093 L 145.029978,-37.760112 L 145.029977,-37.760155 L 145.029966,-37.7602 L 145.029958,-37.760224 L 145.029955,-37.760244 L 145.029947,-37.760261 L 145.02993,-37.760292 L 145.029908,-37.760318 L 145.029894,-37.760343 L 145.029873,-37.760372 L 145.029858,-37.760395 L 145.029829,-37.76042 L 145.029804,-37.760444 L 145.029687,-37.760534 L 145.029669,-37.760546 L 145.029653,-37.760557 L 145.02962,-37.760573 L 145.02958,-37.760597 L 145.029566,-37.760609 L 145.029546,-37.760622 L 145.029518,-37.760637 L 145.029497,-37.760647 L 145.029479,-37.760657 L 145.029454,-37.76067 L 145.029098,-37.760885 L 145.029048,-37.760914 L 145.028965,-37.760959 L 145.028883,-37.761008 L 145.028794,-37.761063 L 145.028737,-37.761112 L 145.028677,-37.761168 L 145.028613,-37.761247 L 145.028546,-37.761326 L 145.028513,-37.761401 L 145.028472,-37.761483 L 145.028418,-37.761571 L 145.028351,-37.761679 L 145.028294,-37.761773 L 145.028194,-37.761948 L 145.028128,-37.762068 L 145.028096,-37.76213 L 145.028051,-37.762207 L 145.028007,-37.762292 L 145.027963,-37.762382 L 145.02793,-37.762497 L 145.027921,-37.762595 L 145.027913,-37.762674 L 145.027911,-37.762758 L 145.027905,-37.762874 L 145.027885,-37.763049 L 145.027884,-37.763155 L 145.027871,-37.76328 L 145.027865,-37.763368 L 145.027854,-37.763463 L 145.027837,-37.763585 L 145.027837,-37.763701 L 145.027837,-37.763732 L 145.027836,-37.76378 L 145.027834,-37.763808 L 145.027893,-37.763989 L 145.028046,-37.764096 L 145.028375,-37.764202 L 145.028482,-37.764241 L 145.028607,-37.764265 L 145.028731,-37.764292 L 145.028805,-37.764312 L 145.028892,-37.764342 L 145.028979,-37.76437 L 145.02908,-37.764397 L 145.029188,-37.764429 L 145.029376,-37.764488 L 145.029438,-37.764518 L 145.029498,-37.764548 L 145.029563,-37.764577 L 145.029638,-37.764588 L 145.029775,-37.764623 L 145.029864,-37.764651 L 145.029968,-37.764681 L 145.030082,-37.764722 L 145.030208,-37.764776 L 145.030314,-37.764811 L 145.030425,-37.764847 L 145.030544,-37.764899 L 145.030616,-37.764951 L 145.030712,-37.765021 L 145.03078,-37.765104 L 145.030832,-37.765189 L 145.030895,-37.765349 L 145.030908,-37.765381 L 145.030958,-37.765489 L 145.031004,-37.765618 L 145.031044,-37.765748 L 145.031128,-37.765991 L 145.031149,-37.766103 L 145.03117,-37.7662 L 145.031188,-37.766276 L 145.031189,-37.76628 L 145.031198,-37.766374 L 145.031202,-37.766466 L 145.031216,-37.76655 L 145.031203,-37.766677 L 145.031232,-37.766776 L 145.031253,-37.766835 L 145.031298,-37.766899 L 145.031338,-37.766961 L 145.0314,-37.767043 L 145.031464,-37.767104 L 145.031526,-37.767163 L 145.031583,-37.767237 L 145.031632,-37.767314 L 145.031645,-37.767412 L 145.031636,-37.767554 L 145.031628,-37.767679 L 145.031611,-37.767783 L 145.031583,-37.767915 L 145.031554,-37.768011 L 145.031535,-37.768142 L 145.031499,-37.76827 L 145.031469,-37.768392 L 145.031442,-37.768523 L 145.03145,-37.768642 L 145.031477,-37.768716 L 145.031668,-37.768852 L 145.031746,-37.768931 L 145.031797,-37.769017 L 145.031818,-37.769149 L 145.031819,-37.769256 L 145.031788,-37.769368 L 145.031794,-37.769452 L 145.031811,-37.769585 L 145.031848,-37.769722 L 145.031872,-37.769887 L 145.031881,-37.770004 L 145.031906,-37.770124 L 145.031945,-37.770217 L 145.032037,-37.770417 L 145.03214,-37.770532 L 145.032276,-37.770641 L 145.032442,-37.770673 L 145.032607,-37.770666 L 145.032769,-37.770645 L 145.032807,-37.770639 L 145.032828,-37.770636 L 145.032847,-37.770631 L 145.032908,-37.770615 L 145.032974,-37.770586 L 145.033073,-37.770572 L 145.033177,-37.770561 L 145.033257,-37.770559 L 145.033375,-37.770533 L 145.033476,-37.770506 L 145.033639,-37.770469 L 145.033853,-37.770433 L 145.033988,-37.77041 L 145.034102,-37.770385 L 145.03418,-37.770362 L 145.034205,-37.770358 L 145.03425,-37.770358 L 145.034306,-37.770361 L 145.03441,-37.770358 L 145.034535,-37.770344 L 145.034617,-37.770327 L 145.034727,-37.770301 L 145.034822,-37.770289 L 145.035089,-37.770267 L 145.035257,-37.770257 L 145.035365,-37.770259 L 145.035495,-37.770278 L 145.035644,-37.770319 L 145.035812,-37.770356 L 145.03604,-37.770412 L 145.036161,-37.770473 L 145.036273,-37.770561 L 145.036332,-37.770594 L 145.036343,-37.770599 L 145.03638,-37.770603 L 145.036416,-37.770583 L 145.036489,-37.770516 L 145.036521,-37.770503 L 145.036586,-37.770488 L 145.036624,-37.770488 L 145.036661,-37.770497 L 145.036664,-37.770498 L 145.036669,-37.7705 L 145.036674,-37.770502 L 145.036702,-37.770513 L 145.036734,-37.770528 L 145.036735,-37.770529 L 145.036789,-37.770565 L 145.036824,-37.770603 L 145.036842,-37.770639 L 145.036841,-37.770668 L 145.036803,-37.770766 L 145.036806,-37.770851 L 145.036836,-37.770908 L 145.036892,-37.770984 L 145.036947,-37.771064 L 145.036995,-37.771138 L 145.037036,-37.771208 L 145.037071,-37.771275 L 145.037097,-37.77134 L 145.037114,-37.771405 L 145.037123,-37.771492 L 145.037126,-37.771637 L 145.037124,-37.771703 L 145.037118,-37.771762 L 145.037113,-37.771812 L 145.037102,-37.771894 L 145.037038,-37.772149 L 145.036986,-37.77225 L 145.036931,-37.772361 L 145.036888,-37.772441 L 145.036846,-37.772503 L 145.036818,-37.772558 L 145.036763,-37.772591 L 145.036707,-37.772609 L 145.036646,-37.772621 L 145.036541,-37.772617 L 145.036441,-37.772605 L 145.036386,-37.772607 L 145.036356,-37.772622 L 145.036296,-37.772646 L 145.036207,-37.772665 L 145.03607,-37.772673 L 145.035943,-37.77266 L 145.035787,-37.772628 L 145.035699,-37.7726 L 145.035567,-37.772559 L 145.035508,-37.772537 L 145.035428,-37.77251 L 145.035317,-37.772493 L 145.03512,-37.772463 L 145.034912,-37.772439 L 145.034756,-37.772406 L 145.034678,-37.772385 L 145.034501,-37.772343 L 145.034436,-37.772333 L 145.034375,-37.77233 L 145.034315,-37.772338 L 145.034255,-37.772358 L 145.034194,-37.772415 L 145.034132,-37.772506 L 145.034103,-37.772603 L 145.034128,-37.772698 L 145.034167,-37.772782 L 145.034211,-37.772863 L 145.034253,-37.772951 L 145.034294,-37.773017 L 145.034367,-37.773115 L 145.03447,-37.773214 L 145.034552,-37.77333 L 145.034597,-37.773388 L 145.034673,-37.773466 L 145.034704,-37.773515 L 145.034774,-37.773643 L 145.034807,-37.773702 L 145.034845,-37.773788 L 145.034913,-37.773874 L 145.034952,-37.773915 L 145.035003,-37.773966 L 145.035037,-37.77401 L 145.035063,-37.774045 L 145.035097,-37.774094 L 145.035135,-37.77416 L 145.035177,-37.774263 L 145.035223,-37.774349 L 145.035269,-37.774428 L 145.03533,-37.774527 L 145.035373,-37.774603 L 145.035461,-37.774719 L 145.035581,-37.774808 L 145.035665,-37.774856 L 145.035819,-37.774916 L 145.035864,-37.774931 L 145.035909,-37.774961 L 145.035933,-37.774996 L 145.035941,-37.775052 L 145.035912,-37.775141 L 145.035873,-37.775223 L 145.035848,-37.775282 L 145.035809,-37.775376 L 145.035786,-37.775418 L 145.035735,-37.775597 L 145.035704,-37.775697 L 145.035684,-37.775766 L 145.035664,-37.775798 L 145.035616,-37.775815 L 145.035492,-37.775804 L 145.035366,-37.77578 L 145.035306,-37.775796 L 145.035229,-37.775854 L 145.03517,-37.775922 L 145.035094,-37.776021 L 145.035058,-37.776132 L 145.035043,-37.776279 L 145.035009,-37.77644 L 145.034998,-37.776488 L 145.035008,-37.776606 L 145.03505,-37.776731 L 145.035055,-37.776808 L 145.035027,-37.776936 L 145.035037,-37.777009 L 145.035048,-37.777078 L 145.035057,-37.777245 L 145.035062,-37.77728 L 145.035105,-37.777348 L 145.035117,-37.777385 L 145.035117,-37.777424 L 145.03512,-37.77748 L 145.035131,-37.777544 L 145.035134,-37.777601 L 145.035123,-37.777663 L 145.035104,-37.777761 L 145.035083,-37.777827 L 145.035045,-37.777915 L 145.034986,-37.777976 L 145.03492,-37.77806 L 145.034802,-37.778334 L 145.034748,-37.778491 L 145.034713,-37.778553 L 145.03468,-37.778579 L 145.034609,-37.778643 L 145.03457,-37.778696 L 145.034564,-37.778704 L 145.034551,-37.778733 L 145.034529,-37.778769 L 145.034481,-37.778831 L 145.034486,-37.778905 L 145.034538,-37.778969 L 145.034651,-37.778999 L 145.034734,-37.778997 L 145.03481,-37.778976 L 145.034897,-37.778937 L 145.034971,-37.778924 L 145.035093,-37.778931 L 145.035198,-37.778925 L 145.035319,-37.778897 L 145.035502,-37.778834 L 145.035565,-37.778809 L 145.035625,-37.778807 L 145.035773,-37.778817 L 145.035896,-37.778834 L 145.035977,-37.77887 L 145.036104,-37.778877 L 145.036158,-37.77889 L 145.036193,-37.778902 L 145.036264,-37.778924 L 145.036339,-37.778975 L 145.036414,-37.779057 L 145.036465,-37.77912 L 145.036499,-37.779174 L 145.036521,-37.779223 L 145.036533,-37.779294 L 145.036533,-37.779333 L 145.036524,-37.779392 L 145.036511,-37.779432 L 145.036511,-37.779457 L 145.036515,-37.779484 L 145.03653,-37.779506 L 145.036582,-37.779554 L 145.036634,-37.779585 L 145.036666,-37.779597 L 145.03673,-37.779618 L 145.036901,-37.779644 L 145.037048,-37.779662 L 145.037166,-37.779682 L 145.037266,-37.779696 L 145.03732,-37.779699 L 145.037382,-37.779697 L 145.037428,-37.779681 L 145.037533,-37.779647 L 145.037602,-37.779613 L 145.037661,-37.779571 L 145.037732,-37.779518 L 145.037797,-37.779451 L 145.037888,-37.779356 L 145.037939,-37.779295 L 145.03797,-37.779261 L 145.038011,-37.779227 L 145.038043,-37.779203 L 145.038067,-37.779189 L 145.038111,-37.779173 L 145.038152,-37.779164 L 145.038197,-37.779162 L 145.038236,-37.779166 L 145.038292,-37.779178 L 145.03835,-37.779199 L 145.038464,-37.779253 L 145.038531,-37.779287 L 145.038582,-37.779314 L 145.038617,-37.779335 L 145.038627,-37.779345 L 145.038641,-37.779361 L 145.038651,-37.779378 L 145.03866,-37.779401 L 145.038666,-37.779434 L 145.038664,-37.779457 L 145.038653,-37.779494 L 145.038634,-37.779533 L 145.038614,-37.779575 L 145.038599,-37.779623 L 145.038593,-37.779656 L 145.038593,-37.779716 L 145.038589,-37.779761 L 145.038583,-37.7798 L 145.038579,-37.779827 L 145.038568,-37.779849 L 145.03853,-37.779905 L 145.038522,-37.779924 L 145.03852,-37.77994 L 145.038517,-37.779973 L 145.038501,-37.780033 L 145.038488,-37.780095 L 145.038478,-37.780134 L 145.038473,-37.78017 L 145.038472,-37.780211 L 145.038475,-37.780258 L 145.038476,-37.780291 L 145.038472,-37.780327 L 145.038462,-37.780359 L 145.038448,-37.780383 L 145.038434,-37.78041 L 145.038422,-37.780426 L 145.03841,-37.780437 L 145.038391,-37.780457 L 145.038365,-37.780476 L 145.038339,-37.780491 L 145.038303,-37.780502 L 145.038271,-37.780513 L 145.038241,-37.780529 L 145.038204,-37.780546 L 145.038185,-37.780556 L 145.038155,-37.780564 L 145.038144,-37.780565 L 145.038131,-37.780563 L 145.038097,-37.780552 L 145.038067,-37.780553 L 145.038035,-37.780549 L 145.03799,-37.780551 L 145.037953,-37.780555 L 145.037911,-37.780573 L 145.03787,-37.780598 L 145.037856,-37.780638 L 145.037852,-37.780662 L 145.037855,-37.780689 L 145.037867,-37.780722 L 145.037879,-37.78075 L 145.037905,-37.780796 L 145.037929,-37.780835 L 145.037955,-37.780872 L 145.037979,-37.780904 L 145.038002,-37.780945 L 145.038012,-37.780971 L 145.038022,-37.780993 L 145.038032,-37.781018 L 145.038037,-37.781041 L 145.038039,-37.781059 L 145.038058,-37.781112 L 145.038069,-37.781158 L 145.038072,-37.781192 L 145.038067,-37.781226 L 145.038059,-37.781255 L 145.038045,-37.781277 L 145.038029,-37.781291 L 145.038013,-37.781298 L 145.037989,-37.781312 L 145.037966,-37.781331 L 145.037951,-37.781354 L 145.037944,-37.781377 L 145.037934,-37.781402 L 145.037918,-37.781433 L 145.037901,-37.781455 L 145.037867,-37.781481 L 145.03784,-37.7815 L 145.037773,-37.781538 L 145.037685,-37.781582 L 145.037647,-37.781594 L 145.037556,-37.781605 L 145.037501,-37.781606 L 145.03747,-37.781602 L 145.037423,-37.781591 L 145.037324,-37.781554 L 145.037254,-37.781529 L 145.037201,-37.781517 L 145.037127,-37.781506 L 145.03705,-37.781501 L 145.037001,-37.78151 L 145.036966,-37.781525 L 145.036962,-37.78153 L 145.036947,-37.781543 L 145.036933,-37.781565 L 145.036918,-37.78159 L 145.036903,-37.781655 L 145.036882,-37.781749 L 145.036865,-37.78181 L 145.036862,-37.7819 L 145.036866,-37.781971 L 145.036872,-37.781991 L 145.036885,-37.782018 L 145.036914,-37.782059 L 145.037,-37.782183 L 145.037053,-37.782258 L 145.037084,-37.782288 L 145.037142,-37.782321 L 145.037201,-37.782335 L 145.037337,-37.782357 L 145.03742,-37.782373 L 145.037538,-37.782379 L 145.037588,-37.782378 L 145.037637,-37.782368 L 145.037684,-37.782358 L 145.03773,-37.782353 L 145.037773,-37.782362 L 145.037795,-37.782383 L 145.037803,-37.782393 L 145.037811,-37.782419 L 145.037818,-37.782448 L 145.037827,-37.78248 L 145.037834,-37.782503 L 145.037841,-37.782532 L 145.037848,-37.782556 L 145.037858,-37.782584 L 145.037872,-37.782635 L 145.037885,-37.782675 L 145.037906,-37.78272 L 145.03793,-37.782751 L 145.037939,-37.782777 L 145.037957,-37.782815 L 145.037962,-37.782844 L 145.037964,-37.782885 L 145.037967,-37.782925 L 145.037972,-37.78296 L 145.037979,-37.782991 L 145.037986,-37.783012 L 145.03799,-37.783052 L 145.037989,-37.78307 L 145.037985,-37.78311 L 145.037985,-37.78315 L 145.037995,-37.783179 L 145.038018,-37.783225 L 145.038027,-37.783252 L 145.038043,-37.783291 L 145.038065,-37.783328 L 145.038093,-37.78336 L 145.038118,-37.783409 L 145.038149,-37.783447 L 145.038189,-37.783484 L 145.03823,-37.783515 L 145.038284,-37.78354 L 145.038354,-37.783557 L 145.038419,-37.783557 L 145.038548,-37.783556 L 145.038638,-37.783561 L 145.038742,-37.78356 L 145.038833,-37.78356 L 145.038884,-37.783563 L 145.038993,-37.78358 L 145.039105,-37.783615 L 145.039155,-37.783637 L 145.039287,-37.783686 L 145.039399,-37.783733 L 145.039445,-37.783757 L 145.039545,-37.783803 L 145.039659,-37.783866 L 145.039705,-37.783894 L 145.039848,-37.783993 L 145.039923,-37.78405 L 145.039953,-37.784073 L 145.039989,-37.784091 L 145.040025,-37.784101 L 145.040052,-37.784107 L 145.040207,-37.7842 L 145.040226,-37.784159 L 145.040352,-37.78396 L 145.040469,-37.783788 L 145.040665,-37.783578 L 145.040813,-37.783413 L 145.040954,-37.783273 L 145.041087,-37.783154 L 145.04123,-37.783011 L 145.041343,-37.78285 L 145.041543,-37.782606 L 145.041732,-37.782386 L 145.0419,-37.78219 L 145.042117,-37.781952 L 145.042258,-37.781777 L 145.042351,-37.781699 L 145.042479,-37.78165 L 145.042632,-37.781605 L 145.042823,-37.781578 L 145.042983,-37.781546 L 145.04302,-37.781534 L 145.043108,-37.781507 L 145.043217,-37.781443 L 145.043292,-37.781342 L 145.043325,-37.781232 L 145.043312,-37.781131 L 145.043277,-37.781041 L 145.043274,-37.780927 L 145.043293,-37.780849 L 145.043327,-37.780767 L 145.043369,-37.780673 L 145.043456,-37.780518 L 145.04357,-37.780394 L 145.043677,-37.780288 L 145.043743,-37.780226 L 145.043822,-37.780198 L 145.043898,-37.780205 L 145.043972,-37.780277 L 145.044055,-37.780367 L 145.04414,-37.780487 L 145.044269,-37.780655 L 145.044373,-37.780781 L 145.044517,-37.78093 L 145.044576,-37.781008 L 145.044659,-37.78105 L 145.044746,-37.781071 L 145.044826,-37.781052 L 145.044857,-37.780981 L 145.044833,-37.780851 L 145.044811,-37.780745 L 145.044769,-37.780581 L 145.044743,-37.780441 L 145.044746,-37.780323 L 145.044778,-37.780207 L 145.04484,-37.780119 L 145.044921,-37.780038 L 145.045021,-37.779993 L 145.045154,-37.779977 L 145.045288,-37.780021 L 145.04546,-37.780123 L 145.04564,-37.78024 L 145.04579,-37.780377 L 145.045907,-37.780465 L 145.046032,-37.780547 L 145.046134,-37.780591 L 145.046224,-37.780643 L 145.046332,-37.780661 L 145.046468,-37.780678 L 145.046567,-37.780659 L 145.046646,-37.780631 L 145.046729,-37.780571 L 145.046826,-37.780504 L 145.046992,-37.780363 L 145.047121,-37.78024 L 145.047243,-37.780117 L 145.047334,-37.780006 L 145.047414,-37.779922 L 145.047474,-37.779876 L 145.047544,-37.779851 L 145.047633,-37.779853 L 145.047708,-37.779864 L 145.047782,-37.779888 L 145.04785,-37.779934 L 145.047909,-37.779978 L 145.04796,-37.780031 L 145.047982,-37.780092 L 145.047971,-37.780162 L 145.047919,-37.780236 L 145.047837,-37.780323 L 145.047791,-37.780415 L 145.047666,-37.780626 L 145.04764,-37.780763 L 145.047674,-37.780885 L 145.047771,-37.780994 L 145.047859,-37.781057 L 145.048103,-37.781128 L 145.048409,-37.781115 L 145.048585,-37.781118 L 145.048738,-37.781102 L 145.048865,-37.781092 L 145.049,-37.781089 L 145.049125,-37.781078 L 145.04924,-37.781089 L 145.049321,-37.781094 L 145.049412,-37.781127 L 145.049509,-37.781179 L 145.049612,-37.781235 L 145.049681,-37.781299 L 145.049767,-37.781365 L 145.049881,-37.781465 L 145.050008,-37.781559 L 145.050134,-37.781645 L 145.050281,-37.781713 L 145.050546,-37.781777 L 145.050716,-37.781779 L 145.050943,-37.781789 L 145.051114,-37.781797 L 145.051242,-37.781795 L 145.051314,-37.781818 L 145.051376,-37.781848 L 145.051453,-37.781895 L 145.051525,-37.781967 L 145.051569,-37.782035 L 145.051626,-37.782156 L 145.051642,-37.782358 L 145.051629,-37.782532 L 145.05164,-37.782704 L 145.051692,-37.782956 L 145.051721,-37.783104 L 145.051793,-37.78324 L 145.051874,-37.783351 L 145.052056,-37.783643 L 145.052361,-37.784052 L 145.052845,-37.784405 L 145.05339,-37.784638 L 145.053974,-37.784792 L 145.054256,-37.784881 L 145.054464,-37.784976 L 145.054674,-37.785057 L 145.054836,-37.785079 L 145.054995,-37.785072 L 145.055178,-37.784987 L 145.05536,-37.784826 L 145.055605,-37.784506 L 145.055725,-37.784314 L 145.055783,-37.784163 L 145.055745,-37.784015 L 145.055658,-37.783907 L 145.055528,-37.783857 L 145.055363,-37.783828 L 145.055081,-37.783837 L 145.054808,-37.783878 L 145.054559,-37.783939 L 145.054342,-37.784014 L 145.05414,-37.784076 L 145.053947,-37.784112 L 145.053739,-37.784097 L 145.053604,-37.784033 L 145.053494,-37.783929 L 145.053414,-37.783795 L 145.05338,-37.783644 L 145.053398,-37.783554 L 145.053438,-37.783405 L 145.053529,-37.783011 L 145.05362,-37.782655 L 145.053714,-37.782363 L 145.053868,-37.782023 L 145.054066,-37.781716 L 145.054229,-37.78149 L 145.0544,-37.781286 L 145.054572,-37.781141 L 145.054693,-37.781076 L 145.054842,-37.781058 L 145.055004,-37.781087 L 145.055169,-37.781174 L 145.055235,-37.7813 L 145.055254,-37.781444 L 145.055222,-37.781618 L 145.055219,-37.781953 L 145.055238,-37.782216 L 145.055281,-37.782378 L 145.05538,-37.782448 L 145.055578,-37.782456 L 145.055773,-37.782379 L 145.056053,-37.782207 L 145.056297,-37.78204 L 145.056555,-37.781857 L 145.056995,-37.781575 L 145.057311,-37.781386 L 145.057717,-37.781194 L 145.057997,-37.781146 L 145.058278,-37.78116 L 145.058665,-37.781185 L 145.058957,-37.781113 L 145.059252,-37.78092 L 145.059489,-37.780689 L 145.059681,-37.780477 L 145.059867,-37.780275 L 145.060112,-37.780099 L 145.060372,-37.779974 L 145.060699,-37.779915 L 145.060956,-37.779947 L 145.061117,-37.780048 L 145.061266,-37.780217 L 145.061347,-37.780412 L 145.06147,-37.780635 L 145.06169,-37.78086 L 145.062,-37.781066 L 145.062169,-37.781168 L 145.06238,-37.781254 L 145.06267,-37.781359 L 145.062947,-37.78142 L 145.063177,-37.781455 L 145.063235,-37.781464 L 145.063312,-37.78147 L 145.063496,-37.7815 L 145.063636,-37.781529 L 145.063837,-37.781536 L 145.064067,-37.781544 L 145.064326,-37.781544 L 145.064474,-37.781573 L 145.064562,-37.781655 L 145.064559,-37.781776 L 145.064518,-37.781886 L 145.064462,-37.78201 L 145.064402,-37.782127 L 145.064243,-37.782318 L 145.064178,-37.782439 L 145.06413,-37.782606 L 145.064151,-37.782739 L 145.064258,-37.782847 L 145.064604,-37.782986 L 145.064843,-37.783032 L 145.065095,-37.783085 L 145.065337,-37.783177 L 145.065626,-37.783288 L 145.065867,-37.783436 L 145.06607,-37.783563 L 145.066239,-37.783663 L 145.066535,-37.783721 L 145.066775,-37.783691 L 145.067021,-37.783626 L 145.0672,-37.783557 L 145.067346,-37.783472 L 145.067463,-37.783394 L 145.067614,-37.783313 L 145.067753,-37.783106 L 145.067778,-37.78289 L 145.067751,-37.782661 L 145.067703,-37.782482 L 145.067654,-37.782336 L 145.067566,-37.782198 L 145.067416,-37.782082 L 145.067217,-37.781987 L 145.067094,-37.781928 L 145.06699,-37.781888 L 145.066906,-37.781818 L 145.066833,-37.781677 L 145.066817,-37.781539 L 145.066851,-37.781338 L 145.066962,-37.781139 L 145.067026,-37.781049 L 145.067203,-37.78085 L 145.067263,-37.780782 L 145.067273,-37.780767 L 145.067322,-37.780691 L 145.067346,-37.780616 L 145.067381,-37.780539 L 145.067428,-37.780468 L 145.067471,-37.780383 L 145.067523,-37.780273 L 145.067524,-37.780259 L 145.067525,-37.780224 L 145.067539,-37.780149 L 145.067566,-37.780055 L 145.067568,-37.780003 L 145.067565,-37.779931 L 145.067544,-37.779806 L 145.06753,-37.779708 L 145.06753,-37.779692 L 145.067528,-37.779627 L 145.06751,-37.779528 L 145.0675,-37.779427 L 145.067486,-37.779342 L 145.067476,-37.77926 L 145.067461,-37.779194 L 145.067454,-37.779139 L 145.06746,-37.779077 L 145.067462,-37.779005 L 145.067476,-37.778953 L 145.067494,-37.778894 L 145.067521,-37.778803 L 145.067562,-37.778641 L 145.067576,-37.778569 L 145.067594,-37.778501 L 145.067621,-37.778413 L 145.067648,-37.778348 L 145.067688,-37.778208 L 145.067711,-37.778124 L 145.06773,-37.778046 L 145.067747,-37.777994 L 145.067761,-37.777929 L 145.06778,-37.777857 L 145.067786,-37.777759 L 145.067801,-37.777665 L 145.067837,-37.777571 L 145.067877,-37.777454 L 145.067921,-37.77734 L 145.06799,-37.777224 L 145.068042,-37.777104 L 145.068081,-37.777036 L 145.06813,-37.776893 L 145.068181,-37.776815 L 145.068237,-37.776744 L 145.068305,-37.776641 L 145.068357,-37.77656 L 145.068399,-37.776512 L 145.068437,-37.776467 L 145.068492,-37.776406 L 145.068556,-37.776319 L 145.068595,-37.776267 L 145.06865,-37.776196 L 145.068697,-37.776131 L 145.068723,-37.776083 L 145.068762,-37.776018 L 145.068797,-37.77594 L 145.068802,-37.775888 L 145.068841,-37.77583 L 145.068875,-37.775762 L 145.068901,-37.775723 L 145.06894,-37.775649 L 145.068983,-37.775584 L 145.069021,-37.775539 L 145.069068,-37.775465 L 145.069107,-37.775406 L 145.069158,-37.775339 L 145.069213,-37.775268 L 145.06926,-37.775203 L 145.069286,-37.775148 L 145.069329,-37.775074 L 145.069351,-37.775025 L 145.069402,-37.774964 L 145.069417,-37.774889 L 145.069439,-37.774821 L 145.069462,-37.77473 L 145.06946,-37.774641 L 145.069413,-37.774533 L 145.06935,-37.77444 L 145.06929,-37.774381 L 145.069234,-37.774311 L 145.069203,-37.774249 L 145.069162,-37.774222 L 145.069093,-37.774201 L 145.069043,-37.774207 L 145.068987,-37.774173 L 145.068959,-37.77413 L 145.068936,-37.774048 L 145.06893,-37.773989 L 145.068924,-37.773895 L 145.06893,-37.773816 L 145.068935,-37.773774 L 145.068942,-37.773689 L 145.068955,-37.77364 L 145.06896,-37.773601 L 145.068962,-37.773529 L 145.068959,-37.773356 L 145.068952,-37.773294 L 145.068954,-37.773229 L 145.068952,-37.773131 L 145.06895,-37.773069 L 145.068951,-37.773029 L 145.068968,-37.773004 L 145.06899,-37.772932 L 145.069012,-37.772887 L 145.069038,-37.772835 L 145.069169,-37.772543 L 145.069224,-37.772469 L 145.069234,-37.772423 L 145.069259,-37.772391 L 145.069301,-37.772366 L 145.069343,-37.772311 L 145.06947,-37.772187 L 145.069538,-37.772112 L 145.069632,-37.772045 L 145.069743,-37.771967 L 145.069857,-37.771892 L 145.069983,-37.77182 L 145.070099,-37.771762 L 145.070229,-37.771691 L 145.070334,-37.771617 L 145.070404,-37.771556 L 145.070486,-37.771474 L 145.070585,-37.771366 L 145.070683,-37.771266 L 145.070781,-37.771189 L 145.070949,-37.771084 L 145.071092,-37.771065 L 145.071196,-37.771079 L 145.071287,-37.771108 L 145.071351,-37.771157 L 145.071398,-37.7712 L 145.071457,-37.771246 L 145.071506,-37.771312 L 145.071543,-37.771372 L 145.0716,-37.771444 L 145.071645,-37.771513 L 145.071753,-37.77164 L 145.071807,-37.771695 L 145.071872,-37.771751 L 145.071937,-37.77181 L 145.071995,-37.771852 L 145.072114,-37.77193 L 145.072166,-37.771963 L 145.072237,-37.771996 L 145.072315,-37.772024 L 145.072397,-37.772041 L 145.072472,-37.772062 L 145.072562,-37.77208 L 145.072652,-37.772085 L 145.072752,-37.772098 L 145.072887,-37.772107 L 145.073177,-37.772118 L 145.073287,-37.772132 L 145.073374,-37.772139 L 145.073463,-37.772147 L 145.073553,-37.772165 L 145.073614,-37.772183 L 145.073675,-37.772207 L 145.073747,-37.772236 L 145.073808,-37.772272 L 145.073834,-37.772287 L 145.074117,-37.772485 L 145.07428,-37.772579 L 145.074334,-37.772632 L 145.074371,-37.772677 L 145.074404,-37.77271 L 145.07443,-37.772728 L 145.074479,-37.772772 L 145.074522,-37.772817 L 145.074563,-37.772862 L 145.074613,-37.772918 L 145.074662,-37.772972 L 145.0747,-37.773026 L 145.074719,-37.773057 L 145.074766,-37.773103 L 145.074822,-37.773155 L 145.074877,-37.7732 L 145.074921,-37.77324 L 145.074967,-37.773279 L 145.07501,-37.773317 L 145.075051,-37.773348 L 145.075118,-37.773406 L 145.07519,-37.773454 L 145.075256,-37.773521 L 145.075292,-37.773556 L 145.075341,-37.773588 L 145.075388,-37.77363 L 145.075429,-37.773668 L 145.075477,-37.773697 L 145.075513,-37.773738 L 145.075569,-37.773766 L 145.075628,-37.773796 L 145.075666,-37.773825 L 145.075749,-37.773848 L 145.075794,-37.773864 L 145.07588,-37.773883 L 145.075934,-37.773891 L 145.075995,-37.77389 L 145.076077,-37.773895 L 145.076127,-37.773888 L 145.076215,-37.773872 L 145.076335,-37.773835 L 145.076389,-37.773805 L 145.07645,-37.773755 L 145.076507,-37.773702 L 145.076564,-37.773642 L 145.076606,-37.773589 L 145.076649,-37.773492 L 145.076679,-37.773357 L 145.076696,-37.773299 L 145.076694,-37.773232 L 145.076695,-37.773155 L 145.076673,-37.773058 L 145.076576,-37.772938 L 145.076448,-37.772862 L 145.076335,-37.772801 L 145.076234,-37.772741 L 145.076143,-37.772705 L 145.07609,-37.772659 L 145.076039,-37.772619 L 145.075986,-37.772585 L 145.075942,-37.772545 L 145.075897,-37.772518 L 145.075855,-37.772502 L 145.075823,-37.772462 L 145.075779,-37.772423 L 145.075722,-37.772362 L 145.075686,-37.772319 L 145.075629,-37.772247 L 145.075603,-37.772202 L 145.075579,-37.772168 L 145.075563,-37.772131 L 145.075532,-37.772082 L 145.075514,-37.772049 L 145.075505,-37.772014 L 145.075501,-37.771972 L 145.075491,-37.771935 L 145.075479,-37.771878 L 145.075469,-37.77181 L 145.075467,-37.771753 L 145.075466,-37.771703 L 145.075468,-37.771651 L 145.075479,-37.771603 L 145.075499,-37.771557 L 145.075508,-37.771505 L 145.075521,-37.771453 L 145.075531,-37.77139 L 145.075539,-37.771325 L 145.075557,-37.771243 L 145.075558,-37.771187 L 145.075559,-37.771134 L 145.075556,-37.771073 L 145.075558,-37.771024 L 145.075557,-37.770968 L 145.07555,-37.770917 L 145.075534,-37.770866 L 145.075514,-37.770795 L 145.07548,-37.770737 L 145.07529,-37.770553 L 145.075065,-37.770455 L 145.075001,-37.770431 L 145.074932,-37.77041 L 145.074668,-37.770348 L 145.07448,-37.770305 L 145.074423,-37.770287 L 145.074287,-37.770251 L 145.074204,-37.770208 L 145.074083,-37.770149 L 145.073906,-37.770073 L 145.073742,-37.769988 L 145.073575,-37.769889 L 145.073423,-37.769802 L 145.073252,-37.7697 L 145.073131,-37.769638 L 145.072998,-37.769588 L 145.072824,-37.769552 L 145.072638,-37.769525 L 145.072529,-37.76949 L 145.072371,-37.769423 L 145.072262,-37.769366 L 145.072149,-37.769286 L 145.072089,-37.769225 L 145.072023,-37.76916 L 145.071974,-37.769092 L 145.071922,-37.769013 L 145.071867,-37.768924 L 145.071824,-37.76884 L 145.071796,-37.768769 L 145.07176,-37.768698 L 145.071706,-37.768572 L 145.071682,-37.768457 L 145.071649,-37.768329 L 145.071636,-37.768216 L 145.071612,-37.768118 L 145.0716,-37.768033 L 145.071592,-37.767934 L 145.071573,-37.76786 L 145.071561,-37.767781 L 145.071552,-37.767686 L 145.071547,-37.767603 L 145.071542,-37.76754 L 145.071539,-37.767451 L 145.071518,-37.767316 L 145.071521,-37.767245 L 145.071528,-37.76717 L 145.071544,-37.767097 L 145.071581,-37.767027 L 145.071649,-37.766947 L 145.071811,-37.766826 L 145.07189,-37.76678 L 145.071969,-37.766735 L 145.072054,-37.766696 L 145.072144,-37.766662 L 145.072238,-37.766636 L 145.072328,-37.766619 L 145.072443,-37.766595 L 145.07253,-37.766581 L 145.07261,-37.76657 L 145.072674,-37.766554 L 145.072736,-37.766536 L 145.072802,-37.766531 L 145.072902,-37.766537 L 145.072976,-37.766545 L 145.073049,-37.766557 L 145.073138,-37.76658 L 145.073297,-37.766612 L 145.073475,-37.766662 L 145.073554,-37.766682 L 145.073647,-37.766712 L 145.073746,-37.766738 L 145.073841,-37.766765 L 145.073919,-37.766784 L 145.074009,-37.766812 L 145.07408,-37.766839 L 145.074158,-37.766857 L 145.074242,-37.76688 L 145.074314,-37.766895 L 145.074388,-37.766919 L 145.07445,-37.766935 L 145.074578,-37.766975 L 145.074654,-37.766997 L 145.074743,-37.767031 L 145.074811,-37.767056 L 145.074873,-37.767079 L 145.07493,-37.767103 L 145.074985,-37.767128 L 145.075059,-37.767165 L 145.075092,-37.767178 L 145.075158,-37.767208 L 145.075204,-37.767227 L 145.075257,-37.767242 L 145.075322,-37.767269 L 145.07539,-37.767296 L 145.075449,-37.767317 L 145.075487,-37.767328 L 145.075596,-37.76737 L 145.075697,-37.767402 L 145.075781,-37.767424 L 145.075859,-37.767436 L 145.075937,-37.767443 L 145.076016,-37.767447 L 145.076081,-37.767451 L 145.076141,-37.767451 L 145.076204,-37.767443 L 145.076265,-37.76743 L 145.076333,-37.767406 L 145.076382,-37.76738 L 145.076431,-37.767345 L 145.076473,-37.7673 L 145.076516,-37.767236 L 145.076551,-37.767164 L 145.076551,-37.767095 L 145.076536,-37.767024 L 145.076526,-37.766942 L 145.076512,-37.766856 L 145.076498,-37.766791 L 145.07648,-37.76669 L 145.076469,-37.766592 L 145.076469,-37.766496 L 145.076484,-37.766405 L 145.076509,-37.76632 L 145.076537,-37.76624 L 145.076562,-37.766158 L 145.076605,-37.766084 L 145.076656,-37.765988 L 145.076709,-37.765901 L 145.076756,-37.765839 L 145.076802,-37.765776 L 145.076849,-37.765722 L 145.076895,-37.765673 L 145.07696,-37.765617 L 145.077028,-37.76556 L 145.077117,-37.765502 L 145.077198,-37.765453 L 145.077265,-37.76541 L 145.07733,-37.765363 L 145.077396,-37.765318 L 145.077464,-37.765266 L 145.077514,-37.765214 L 145.077564,-37.765169 L 145.077612,-37.765124 L 145.077669,-37.765078 L 145.077728,-37.765031 L 145.077781,-37.76498 L 145.077875,-37.764865 L 145.077935,-37.764785 L 145.077998,-37.764708 L 145.078096,-37.76457 L 145.078142,-37.76451 L 145.0782,-37.764436 L 145.078256,-37.76436 L 145.078315,-37.764279 L 145.078364,-37.764186 z\" /></g></svg>",
      "text/plain": [
       "<shapely.geometry.polygon.Polygon at 0xd877618c10>"
      ]
     },
     "execution_count": 6,
     "metadata": {},
     "output_type": "execute_result"
    }
   ],
   "source": [
    "LGA_FEATURES_LIST[0][\"geometry\"][\"coordinates\"][0]"
   ]
  },
  {
   "cell_type": "code",
   "execution_count": 12,
   "metadata": {},
   "outputs": [],
   "source": [
    "output = open('LGA_list.pkl','wb')\n",
    "pickle.dump(LGA_FEATURES_LIST, output)\n",
    "output.close()"
   ]
  },
  {
   "cell_type": "code",
   "execution_count": 13,
   "metadata": {},
   "outputs": [],
   "source": [
    "input = open('LGA_list.pkl','rb')\n",
    "lga_list = pickle.load(input)\n",
    "input.close()"
   ]
  },
  {
   "cell_type": "code",
   "execution_count": 14,
   "metadata": {},
   "outputs": [
    {
     "data": {
      "text/plain": [
       "True"
      ]
     },
     "execution_count": 14,
     "metadata": {},
     "output_type": "execute_result"
    }
   ],
   "source": [
    "lga_list == LGA_FEATURES_LIST"
   ]
  },
  {
   "cell_type": "code",
   "execution_count": 7,
   "metadata": {},
   "outputs": [
    {
     "name": "stdout",
     "output_type": "stream",
     "text": [
      "in LGA Melbourne City 24600\n",
      "Melbourne City\n"
     ]
    }
   ],
   "source": [
    "data1 = add_lga_tags('LGA_list.pkl', data1)"
   ]
  },
  {
   "cell_type": "markdown",
   "metadata": {},
   "source": [
    "## Error handle test"
   ]
  },
  {
   "cell_type": "code",
   "execution_count": 1,
   "metadata": {},
   "outputs": [],
   "source": [
    "import tweepy\n",
    "import pickle"
   ]
  },
  {
   "cell_type": "code",
   "execution_count": 2,
   "metadata": {},
   "outputs": [],
   "source": [
    "BEARER_TOKEN = [\"AAAAAAAAAAAAAAAAAAAAABTzbAEAAAAAdojtSeSLrMbP1332MUDWvDH%2BizY%3DMTbgi5FKJHNnLwwO5acTPNP3uWRPrUAtoxnckAzXiDq3BwU4Bo\",\n",
    "    \"AAAAAAAAAAAAAAAAAAAAAN%2FIbQEAAAAAsOzq2imuYFShxFO1EnN4EcOEA6c%3DMgCTYsVUpitvOTzwJFpMDCOvSPb2K5PNOjE1kLxnaTGXSPw462\"]\n",
    "\n",
    "query2 = 'hallucination OR insanity OR (mental disorder) OR (mental disease) OR (mental sickness) OR (mental health) OR (nervous disorder) OR neurosis lang:en'\n",
    "query3 = '(neurotic disorder) OR (personality disorder) OR schizophrenia OR self-harm OR (self harm) OR suicide lang:en'\n",
    "\n",
    "client = tweepy.Client(bearer_token= BEARER_TOKEN[0])"
   ]
  },
  {
   "cell_type": "code",
   "execution_count": 51,
   "metadata": {},
   "outputs": [],
   "source": [
    "tweets = client.search_recent_tweets(query=query3, tweet_fields=['author_id', 'created_at', 'geo'], max_results=100)"
   ]
  },
  {
   "cell_type": "code",
   "execution_count": 60,
   "metadata": {},
   "outputs": [],
   "source": [
    "count = 0\n",
    "tweets = []\n",
    "while(True):\n",
    "    tweets += (client.search_recent_tweets(query=query3, tweet_fields=['author_id', 'created_at', 'geo'], max_results=100) )\n",
    "    count += 1\n",
    "    if(count == 100):\n",
    "        break"
   ]
  },
  {
   "cell_type": "code",
   "execution_count": 61,
   "metadata": {},
   "outputs": [
    {
     "data": {
      "text/plain": [
       "400"
      ]
     },
     "execution_count": 61,
     "metadata": {},
     "output_type": "execute_result"
    }
   ],
   "source": [
    "len(tweets)"
   ]
  },
  {
   "cell_type": "code",
   "execution_count": 58,
   "metadata": {},
   "outputs": [],
   "source": [
    "a = 'sss'\n",
    "s = 0\n",
    "while(s < 100):\n",
    "    try:\n",
    "        s += int(a)\n",
    "        s = s + 1\n",
    "    except Exception as ee:\n",
    "        a = '1'\n",
    "    \n"
   ]
  },
  {
   "cell_type": "code",
   "execution_count": 59,
   "metadata": {},
   "outputs": [
    {
     "data": {
      "text/plain": [
       "100"
      ]
     },
     "execution_count": 59,
     "metadata": {},
     "output_type": "execute_result"
    }
   ],
   "source": [
    "s"
   ]
  }
 ],
 "metadata": {
  "interpreter": {
   "hash": "2217ca6387ebab3e779c35aac0e5e25d63390aaf1d71e66b00c917e7271e8141"
  },
  "kernelspec": {
   "display_name": "Python 3.9.12 64-bit",
   "language": "python",
   "name": "python3"
  },
  "language_info": {
   "codemirror_mode": {
    "name": "ipython",
    "version": 3
   },
   "file_extension": ".py",
   "mimetype": "text/x-python",
   "name": "python",
   "nbconvert_exporter": "python",
   "pygments_lexer": "ipython3",
   "version": "3.9.12"
  },
  "orig_nbformat": 4
 },
 "nbformat": 4,
 "nbformat_minor": 2
}
